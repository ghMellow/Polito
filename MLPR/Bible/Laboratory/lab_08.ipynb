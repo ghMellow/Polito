{
 "cells": [
  {
   "metadata": {},
   "cell_type": "markdown",
   "source": [
    "Confusion matrices are a tool to visualize the number of samples predicted as class i and belonging to\n",
    "class j. A confusion matrix is a K ×K matrix whose elements Mi,j represent the number of samples\n",
    "belonging to class j that are predicted as class i.\n",
    "We start considering the Gaussian classifiers (MVG) on the IRIS dataset. We make use of the 2-to-1\n",
    "dataset split that we employed in Laboratory 6 (see 6_Lab.pdf).\n",
    "For the moment we assume that mis-classification costs are all equal to 1. We have seen that, in\n",
    "this case, optimal decisions correspond to predicting the class which has maximum posterior probability.\n",
    "\n",
    "Compute the confusion matrix for the predictions of the MVG classifier on the IRIS dataset and the Tied one.\n"
   ],
   "id": "98ab6b8f14ea7ae"
  },
  {
   "metadata": {
    "ExecuteTime": {
     "end_time": "2025-08-24T21:26:34.737394Z",
     "start_time": "2025-08-24T21:26:34.453348Z"
    }
   },
   "cell_type": "code",
   "source": [
    "import numpy as np\n",
    "import matplotlib.pyplot as plt\n",
    "\n",
    "import load_split\n",
    "import Bayes_decisions_Model_evaluation as BDME\n",
    "import MVG.MVG as MVG"
   ],
   "id": "d50fd0639470ae06",
   "outputs": [],
   "execution_count": 1
  },
  {
   "metadata": {
    "ExecuteTime": {
     "end_time": "2025-08-24T21:26:35.266413Z",
     "start_time": "2025-08-24T21:26:34.740689Z"
    }
   },
   "cell_type": "code",
   "source": [
    "D, L = load_split.load_iris()\n",
    "print(D.shape, L.shape)"
   ],
   "id": "7fae580dcf26db2",
   "outputs": [
    {
     "name": "stdout",
     "output_type": "stream",
     "text": [
      "(4, 150) (150,)\n"
     ]
    }
   ],
   "execution_count": 2
  },
  {
   "metadata": {
    "ExecuteTime": {
     "end_time": "2025-08-24T21:26:35.317410Z",
     "start_time": "2025-08-24T21:26:35.315734Z"
    }
   },
   "cell_type": "code",
   "source": [
    "(DTR, LTR), (DVAL, LVAL) = load_split.split_db_2to1(D, L)\n",
    "print(f\"Training: DTR={DTR.shape}, LTR={LTR.shape}\")\n",
    "print(f\"Validation: DVAL={DVAL.shape}, LVAL={LVAL.shape}\")"
   ],
   "id": "fc66a0c94b5bacb8",
   "outputs": [
    {
     "name": "stdout",
     "output_type": "stream",
     "text": [
      "Training: DTR=(4, 100), LTR=(100,)\n",
      "Validation: DVAL=(4, 50), LVAL=(50,)\n"
     ]
    }
   ],
   "execution_count": 3
  },
  {
   "metadata": {
    "ExecuteTime": {
     "end_time": "2025-08-24T21:26:35.324238Z",
     "start_time": "2025-08-24T21:26:35.322175Z"
    }
   },
   "cell_type": "code",
   "source": [
    "# MVG\n",
    "P_MVG = MVG.pipeline(DTR, LTR, DVAL)\n",
    "res = BDME.computeConfMatrix(P_MVG, LVAL)"
   ],
   "id": "6a340e4f9b0e148a",
   "outputs": [],
   "execution_count": 4
  },
  {
   "metadata": {
    "ExecuteTime": {
     "end_time": "2025-08-24T21:26:35.330754Z",
     "start_time": "2025-08-24T21:26:35.329146Z"
    }
   },
   "cell_type": "code",
   "source": [
    "P_MVG = MVG.pipeline_TiedCov(DTR, LTR, DVAL)\n",
    "res = BDME.computeConfMatrix(P_MVG, LVAL)"
   ],
   "id": "c78cd669d0590b17",
   "outputs": [],
   "execution_count": 5
  },
  {
   "metadata": {},
   "cell_type": "markdown",
   "source": [
    "Given the limited number of errors, a detailed analysis of the IRIS dataset is not very interesting. We\n",
    "thus turn our attention to a larger evaluation dataset.\n",
    "\n",
    "In the following we will employ the outputs of the classifier of Laboratory 7.\n",
    "You can use your version of the classifier for tercets or use the one provided as solution to Laboratory 7.\n",
    "The class-conditional log-likelihoods and the corresponding tercet labels are provided in Data/comme-\n",
    "dia_ll.npy and Data/commedia_labels.npy.\n",
    "\n",
    "Given the matrix of class-conditional log-likelihoods, compute the confusion matrix for decisions based\n",
    "on uniform prior and uniform cost assumptions (i.e. maximum posterior class probability decisions)."
   ],
   "id": "bc4cf9e3e06a1ab3"
  },
  {
   "metadata": {
    "ExecuteTime": {
     "end_time": "2025-08-24T21:26:35.337645Z",
     "start_time": "2025-08-24T21:26:35.335562Z"
    }
   },
   "cell_type": "code",
   "source": [
    "# Load data\n",
    "log_likelihoods = np.load(\"../data/commedia_ll.npy\")\n",
    "labels = np.load(\"../data/commedia_labels.npy\")\n",
    "print(\"Log-likelihoods shape:\", log_likelihoods.shape)\n",
    "print(\"Labels shape:\", labels.shape)"
   ],
   "id": "5ca662c886a4f9da",
   "outputs": [
    {
     "name": "stdout",
     "output_type": "stream",
     "text": [
      "Log-likelihoods shape: (3, 1204)\n",
      "Labels shape: (1204,)\n"
     ]
    }
   ],
   "execution_count": 6
  },
  {
   "metadata": {
    "ExecuteTime": {
     "end_time": "2025-08-24T21:26:35.344766Z",
     "start_time": "2025-08-24T21:26:35.342943Z"
    }
   },
   "cell_type": "code",
   "source": [
    "# Assuming uniform prior distribution, equal for each classes\n",
    "classes = np.unique(labels)\n",
    "Priors = np.ones(len(classes)) / len(classes)  # vet of 1 each one divide by the unique number of class\n",
    "\n",
    "# Having the ll we can compute the posterior probability e predict the labels\n",
    "res = BDME.computeConfMatrixFromLL(labels, log_likelihoods, Priors)"
   ],
   "id": "dacc5b9098765ce5",
   "outputs": [],
   "execution_count": 7
  },
  {
   "metadata": {},
   "cell_type": "markdown",
   "source": [
    "# Optimal Bayes decision\n",
    "\n",
    "We now focus on making optimal decisions when priors and costs are not uniform.\n",
    "Optimal Bayes decisions are decisions that minimize the expected Bayes cost,\n",
    "from the point of view of the recognizer R.\n",
    "\n",
    "...\n",
    "\n",
    "Threshold became:\n",
    "\n",
    "$$\n",
    "t = - \\log \\frac{\\pi_1 C_{fn}}{(1 - \\pi_1) C_{fp}}\n",
    "$$"
   ],
   "id": "b555f7d82a56603e"
  },
  {
   "metadata": {
    "ExecuteTime": {
     "end_time": "2025-08-24T21:26:35.356703Z",
     "start_time": "2025-08-24T21:26:35.354698Z"
    }
   },
   "cell_type": "code",
   "source": [
    "# Load data\n",
    "log_likelihoods_infpar = np.load(\"../data/commedia_llr_infpar.npy\")\n",
    "labels_infpar = np.load(\"../data/commedia_labels_infpar.npy\")\n",
    "print(\"Log-likelihoods shape:\", log_likelihoods_infpar.shape)\n",
    "print(\"Labels shape:\", labels_infpar.shape)"
   ],
   "id": "a28318cf568ced2c",
   "outputs": [
    {
     "name": "stdout",
     "output_type": "stream",
     "text": [
      "Log-likelihoods shape: (802,)\n",
      "Labels shape: (802,)\n"
     ]
    }
   ],
   "execution_count": 8
  },
  {
   "metadata": {},
   "cell_type": "markdown",
   "source": [
    "diﬀerent priors and costs:\n",
    "\n",
    "- [π1 = 0.5; Cfn= C0,1 = 1; Cfp= C1,0 = 1]\n",
    "\n",
    "- [π1 = 0.8; Cfn= C0,1 = 1; Cfp= C1,0 = 1]\n",
    "\n",
    "- [π1 = 0.5; Cfn= C0,1 = 10; Cfp= C1,0 = 1]\n",
    "\n",
    "- [π1 = 0.8; Cfn= C0,1 = 1; Cfp= C1,0 = 10]\n",
    "\n"
   ],
   "id": "1606001e1d594210"
  },
  {
   "metadata": {
    "ExecuteTime": {
     "end_time": "2025-08-24T21:26:35.361262Z",
     "start_time": "2025-08-24T21:26:35.359166Z"
    }
   },
   "cell_type": "code",
   "source": [
    "PriorTrue=0.5\n",
    "Cfn=1\n",
    "Cfp=1\n",
    "res1, t1 = BDME.optimalBayesDecisionClassifier(log_likelihoods_infpar, labels_infpar, PriorTrue, Cfn, Cfp)\n",
    "\n",
    "PriorTrue=0.8\n",
    "Cfn=1\n",
    "Cfp=1\n",
    "res2, t2 = BDME.optimalBayesDecisionClassifier(log_likelihoods_infpar, labels_infpar, PriorTrue, Cfn, Cfp)\n",
    "\n",
    "PriorTrue=0.5\n",
    "Cfn=10\n",
    "Cfp=1\n",
    "res3, t3 = BDME.optimalBayesDecisionClassifier(log_likelihoods_infpar, labels_infpar, PriorTrue, Cfn, Cfp)\n",
    "\n",
    "PriorTrue=0.8\n",
    "Cfn=1\n",
    "Cfp=10\n",
    "res4, t4 = BDME.optimalBayesDecisionClassifier(log_likelihoods_infpar, labels_infpar, PriorTrue, Cfn, Cfp)"
   ],
   "id": "75730a396a5de1f",
   "outputs": [],
   "execution_count": 9
  },
  {
   "metadata": {},
   "cell_type": "markdown",
   "source": [
    "## Binary task: evaluation\n",
    "We now turn our attention at evaluating the predictions made by our classifier $\\mathcal{R}$ for a target application with Prior and costs given by the triplet $(\\pi_1, C_{fn}, C_{fp})$ (i.e. how good is the classification). <br>\n",
    "At evaluation time,  $\\mathcal{R}$ performs decisions for the test samples and finds the optimal ones according to the Posteriors (which are its believes). WE want to know what is the cost when using the system over data having their own labels. As we have seen,\n",
    "we can compute the **empirical Bayes risk** (or **detection cost function**, *DCF*), that represents the cost that\n",
    "we pay due to our decisions $c^* = argmin_c \\{ C_{X, \\mathcal{R}}(c) \\}$\n",
    "for the test data. The risk can be expressed as:\n",
    "$$\n",
    "\\mathcal{B} = \\mathop{\\mathbb{E}}_{X, C \\mid \\mathcal{E}} \\left[ C^* (x, \\mathcal{R} \\mid c)\\right]\n",
    "$$\n",
    "Beware that this can also be written as: $\\mathcal{B} = \\mathop{\\mathbb{E}}_{X, C \\mid \\mathcal{E}} \\left[ C^* (a^*(x, \\mathcal{R}) \\mid c)\\right]$ since $C^*$ is the cost for taking the **optimal** decision $a^*$. However, to simplify the notation, we will usually use the first representation.<br>\n",
    "In the formula, $\\mathcal{E}$ denotes the evaluation population, assumed to be distributed according\n",
    "to $X, C \\mid \\mathcal{E}$. $\\mathcal{E}$ is basically an evaluator who knows the complete distribution of\n",
    "data. <br>\n",
    "So, $\\mathcal{B}$ is nothing else than the expected cost for our evaluation samples, computer over optimal costs of optimal decisions $a^* (x, \\mathcal{R})$. <br>\n",
    "Since $\\mathcal{E}$ knows the complete distribution of the data, we can say that the evaluation population is sampled from $f_{X, C \\mid \\mathcal{E}} (x, c)$, which is the distribution of all the $(x_t, c_t)$ (which are the oberved samples with their observed labels). <br>\n",
    "So, when we apply the Classifier $\\mathcal{R}$ over these samples from the distribution above, we want to know the cost to pay. For each pair $(X, C)$ we can take the optimal cost for the optimal decision, $C^* (x, \\mathcal{R} \\mid c)$, weighted by the distribution density $f_{X, C \\mid \\mathcal{E}} (x, c)$:\n",
    "$$\n",
    "\\mathcal{B} = \\mathop{\\mathbb{E}}_{X, C \\mid \\mathcal{E}} \\left[ C^* (x, \\mathcal{R} \\mid c)\\right] = \\int \\int C^*(x, \\mathcal{R} \\mid c) f_{X, C \\mid \\mathcal{E}}(x, c) \\, dx \\, dc\n",
    "$$\n",
    "Since in our case the classes are discrete, instead of an integral over $dc$ we can insert a sum:\n",
    "$$\n",
    "\\mathcal{B} = \\mathop{\\mathbb{E}}_{X, C \\mid \\mathcal{E}} \\left[ C^* (x, \\mathcal{R} \\mid c)\\right] = \\sum_{c = 0}^{K-1}  \\int C^*(x, \\mathcal{R} \\mid c) f_{X, C \\mid \\mathcal{E}}(x, c) \\, dx\n",
    "$$\n",
    "If $\\mathcal{R}$ is a Generative Model, like in our case, we can factorize the Joint into the conditional and the Prior:\n",
    "$$\n",
    "\\mathcal{B} = \\mathop{\\mathbb{E}}_{X, C \\mid \\mathcal{E}} \\left[ C^* (x, \\mathcal{R} \\mid c)\\right] = \\sum_{c = 0}^{K-1}  \\int C^*(x, \\mathcal{R} \\mid c) f_{X \\mid C, \\mathcal{E}}(x \\mid c) P(C = c) \\, dx \\\\\n",
    "= \\sum_{c = 0}^{K-1}  \\int C^*(x, \\mathcal{R} \\mid c) f_{X \\mid C, \\mathcal{E}}(x \\mid c) \\pi_c \\, dx\n",
    "$$\n",
    "Since the Prior $\\pi_c$ does not depend on the test sample $x$ (which is the integration variable), we can put it outside the integral. The final formula for the expected Bayes Risk is thus:\n",
    "$$\n",
    "\\mathcal{B} = \\mathop{\\mathbb{E}}_{X, C \\mid \\mathcal{E}} \\left[ C^* (x, \\mathcal{R} \\mid c)\\right] = \\sum_{c = 0}^{K-1}  \\pi_c \\int C^*(x, \\mathcal{R} \\mid c) f_{X \\mid C, \\mathcal{E}}(x \\mid c) \\, dx\n",
    "$$\n",
    "This whole formula encodes that, for each class $c$, we have to first compute the cost of optimal decision for sample $x$ using the Recongizer $\\mathcal{R}$, given that $x \\in c$, then we have to multiply this cost with the conditional and integrate over all the samples to find the expectation wrt the samples of class $c$, then we have to sum this value over all the classes. <br>\n",
    "Note that the distribution $X \\mid C, \\mathcal{E}$ reflects the knowledge of the evaluator $\\mathcal{E}$, not\n",
    "the knowledge of the Recognizer $\\mathcal{R}$. <br> <br>\n",
    "The problem now is that we **do not know** $f_{X \\mid C, \\mathcal{E}}(x \\mid c)$ (which is the conditional density according to evaluator $\\mathcal{E}$, so the data distribution according to $\\mathcal{E}$). However, we have at our disposal a **labeled dataset**: $(x_0, c_0), ..., (x_N, c_{K-1})$. It's important to stress the fact that **we know the actual labels** of this data. We assume that these samples are drawn from the distribution $X \\mid C, \\mathcal{E}$, according to $f_{X \\mid C, \\mathcal{E}}(x \\mid c)$. This means that,  if the number of samples per class\n",
    "becomes large, we can approximate the integral of the expectation by\n",
    "averaging the cost over the samples of each class. This is called **empirical Expectation**:\n",
    "$$\n",
    "\\int C^*(x, \\mathcal{R} | c) f_{X|C, \\mathcal{E}}(x | c) dx \\approx \\frac{1}{N_c} \\sum_{i | c_i = c} C^*(x_i, \\mathcal{R} | c)\n",
    "$$\n",
    "where $N_c$ is the number of classes. <br>\n",
    "If we compute this for each class and multiply it by the Prior of each class and them sum all together, we can finally compute the **Empirical Bayes Risk**:\n",
    "$$\n",
    "\\mathcal{B}_{\\text{emp}} = \\sum_{c=0}^{K-1} \\frac{\\pi_c}{N_c} \\sum_{i | c_i = c} C^*(x_i, \\mathcal{R} | c) = \\sum_{c=0}^{K-1} \\frac{\\pi_c}{N_c} \\sum_{i | c_i = c} C^*(c_{i}^* | c)\n",
    "$$\n",
    "and we can say that $\\mathcal{B} \\approx \\mathcal{B}_{\\text{emp}}$. <br>\n",
    "In the second formula, $c_i$\n",
    "is the actual class for sample $x_i$ and $c_{i}^*$\n",
    "is the predicted class (by $\\mathcal{R}$) for the same sample. <br>\n",
    "For a binary problem, $\\mathcal{B}_{\\text{emp}}$ can also be expressed as:\n",
    "$$\n",
    "\\mathcal{B}_{\\text{emp}} = \\pi_T C_{fn} P_{fn} + (1 - \\pi_T) C_{fp} P_{fp}\n",
    "$$\n",
    "where $P_{fn}$ and $P_{fp}$\n",
    "are the false negative and false positive rates (also called $\\text{FNR}$, $\\text{FPR}$). These can be computed from the confusion matrix $\\mathbf{M}$.\n",
    "Remember that $M_{i,j}$ represents the number of samples of class $j$ predicted as belonging to class $i$. We\n",
    "can then compute:\n",
    "$$\n",
    "P_{fn} = \\frac{FN}{FN + TP} = \\frac{M_{0,1}}{M_{0,1} + M_{1,1}}, \\quad P_{fp} = \\frac{FP}{FP + TN} = \\frac{M_{1,0}}{M_{0,0} + M_{1,0}}\n",
    "$$\n",
    "\n",
    "\n",
    "\n"
   ],
   "id": "b361f108d047e998"
  },
  {
   "metadata": {},
   "cell_type": "markdown",
   "source": [
    "We can observe that\n",
    "• When the prior for class 1 increases, the classifier tends to predict class 1 more frequently\n",
    "• When the cost of predicting class 0 when the actual class is 1, C0,1 increases, the classifier will\n",
    "make more false positive errors and less false negative errors. The opposite is true when C1,0 is\n",
    "higher."
   ],
   "id": "a5aa1593de8fa93b"
  },
  {
   "metadata": {},
   "cell_type": "markdown",
   "source": [
    "Binary task: evaluation\n",
    "We now turn our attention at evaluating the predictions made by our classifier Rfor a target application\n",
    "with prior and costs given by (π1,Cfn,Cfp).\n",
    "3\n",
    "At evaluation time, we use the real labels of the test set to evaluate the decisions c∗. As we have seen,\n",
    "we can compute the empirical Bayes risk (or detection cost function, DCF), that represents the cost that\n",
    "we pay due to our decisions c∗for the test data. The risk can be expressed as\n",
    "DCFu = B=\n",
    "K−1\n",
    "k=0\n",
    "πk\n",
    "Nk i|ci =k\n",
    "C(c∗\n",
    "i|k)\n",
    "= π1CfnPfn + (1−π1)CfpPfp\n",
    "where ci is the actual class for sample i and c∗\n",
    "i is the predicted class for the same sample. Pfn and Pfp\n",
    "are the false negative and false positive rates. These can be computed from the confusion matrix M.\n",
    "Remember that Mi,j represents the number of samples of class j predicted as belonging to class i. We\n",
    "can then compute\n",
    "M0,1\n",
    "M1,0\n",
    "Pfn=\n",
    "FN\n",
    "FN + TP=\n",
    ", Pfp=\n",
    "M0,1 + M1,1\n",
    "FP\n",
    "FP + TN=\n",
    "M0,0 + M1,0\n",
    "Write a function that computes the Bayes risk from the confusion matrix corresponding to the optimal\n",
    "decisions for an application (π1,Cfn,Cfp) (use the same values both for computing the cost and for\n",
    "computing the decisions)."
   ],
   "id": "966e9b533de0b2d"
  },
  {
   "metadata": {},
   "cell_type": "markdown",
   "source": "",
   "id": "af5ab4b98586338c"
  },
  {
   "metadata": {
    "ExecuteTime": {
     "end_time": "2025-08-24T21:26:35.374727Z",
     "start_time": "2025-08-24T21:26:35.372443Z"
    }
   },
   "cell_type": "code",
   "source": [
    "PriorsSet = [0.5, 0.8, 0.5, 0.8]\n",
    "CfnSet = [1, 1, 10, 1]\n",
    "CfpSet = [1, 1, 1, 10]\n",
    "\n",
    "risks = []\n",
    "for testIndex in range(len(PriorsSet)):\n",
    "    risk = BDME.computeEmpiricalBayesRisk(log_likelihoods_infpar, labels_infpar, PriorsSet[testIndex], CfnSet[testIndex], CfpSet[testIndex])\n",
    "    risks.append(risk)\n",
    "\n",
    "print(f\"\\n\\nEmpirical Bayes Risk, Commedia infPar Binary Classifier:\")\n",
    "for (index, risk) in enumerate(risks):\n",
    "    print(f\"- Test {index}: {risk :.3f}\")"
   ],
   "id": "8f9583efe986d984",
   "outputs": [
    {
     "name": "stdout",
     "output_type": "stream",
     "text": [
      "\n",
      "\n",
      "Empirical Bayes Risk, Commedia infPar Binary Classifier:\n",
      "- Test 0: 0.256\n",
      "- Test 1: 0.225\n",
      "- Test 2: 1.118\n",
      "- Test 3: 0.724\n"
     ]
    }
   ],
   "execution_count": 10
  },
  {
   "metadata": {},
   "cell_type": "markdown",
   "source": [
    "**The Bayes risk allows us comparing diﬀerent systems, however it does not tell us what is the benefit of using our recognizer with respect to optimal decisions based on prior information only.**\n",
    "\n",
    "**We can compute a normalized detection cost, by dividing the Bayes risk by the risk of an optimal system that does not\n",
    "use the test data at all.**"
   ],
   "id": "4638f0501ac8f65b"
  },
  {
   "metadata": {},
   "cell_type": "markdown",
   "source": [
    "$\\mathcal{B}_{\\text{emp}}$ is also called (**un-normalized**) *Detection Cost Function* (DCF). We say\n",
    "*un-normalized* because this value doesn’t tell a lot by itself. <br>\n",
    "We can compute\n",
    "a **normalized Detection Cost Function**, by dividing the Bayes risk by the risk of an optimal system that does not\n",
    "use the test data at all and only relies on Priors. <br>\n",
    "If we consider a dummy system that always classifies a test sample as $H_T$, we would have $P_{fp} = 1$, $P_{fn} = 0$ that imply $DCF_u = (1 - \\pi_T)C_{fp}$. <br>\n",
    "Similarly, a dummy system that always classifies a test sample as $H_F$ we would have $P_{fp} = 0$, $P_{fn} = 1$ that imply $DCF_u = \\pi_T C_{fn}$. <br>\n",
    "We compare the system DCF w.r.t. the best dummy system to get the normalized DCF:\n",
    "\n",
    "$$\n",
    "\\mathcal{B}_{\\text{emp , norm. }} = DCF(\\pi_T, C_{fn}, C_{fp}) = \\frac{DCF_u(\\pi_T, C_{fn}, C_{fp})}{\\min(\\pi_T C_{fn}, (1 - \\pi_T)C_{fp})}\n",
    "$$\n",
    "\n",
    "Note that the best dummy system corresponds to optimal Bayes decisions based on Prior information alone. <br>\n",
    "So, let's write the function to normalize te DCFs:\n"
   ],
   "id": "cc68e276cfceff2"
  },
  {
   "metadata": {
    "ExecuteTime": {
     "end_time": "2025-08-24T21:26:35.379707Z",
     "start_time": "2025-08-24T21:26:35.377394Z"
    }
   },
   "cell_type": "code",
   "source": [
    "PriorsSet = [0.5, 0.8, 0.5, 0.8]\n",
    "CfnSet = [1, 1, 10, 1]\n",
    "CfpSet = [1, 1, 1, 10]\n",
    "\n",
    "risks = []\n",
    "for testIndex in range(len(PriorsSet)):\n",
    "    risk = round(BDME.computeEmpiricalBayesRisk_Normalized\n",
    "            (log_likelihoods_infpar,\n",
    "             labels_infpar,\n",
    "             PriorsSet[testIndex],\n",
    "             CfnSet[testIndex],\n",
    "             CfpSet[testIndex]), 3)\n",
    "    risks.append(risk)\n",
    "\n",
    "print(f\"\\n\\nEmpirical Bayes Risk Normalized, Commedia infPar Binary Classifier:\")\n",
    "for (index, risk) in enumerate(risks):\n",
    "    print(f\"- Test {index}: {risk :.3f}\")"
   ],
   "id": "15e2ea1c10334fe",
   "outputs": [
    {
     "name": "stdout",
     "output_type": "stream",
     "text": [
      "\n",
      "\n",
      "Empirical Bayes Risk Normalized, Commedia infPar Binary Classifier:\n",
      "- Test 0: 0.511\n",
      "- Test 1: 1.126\n",
      "- Test 2: 2.236\n",
      "- Test 3: 0.904\n"
     ]
    }
   ],
   "execution_count": 11
  },
  {
   "metadata": {},
   "cell_type": "markdown",
   "source": [
    "Based on what we obtain, we can actually say if our system is *good / useful* or *harmful /useless*:\n",
    "- if $DCF(\\pi_T, C_{fn}, C_{fp}) > 1 \\Rightarrow$ our system is **harmful**\n",
    "- if $DCF(\\pi_T, C_{fn}, C_{fp}) \\lt 1 \\Rightarrow$ our system is **good**\n",
    "\n",
    "**We can observe that only in two cases the DCF is lower than 1, in the remaining cases our system is actually harmful.**\n"
   ],
   "id": "29c6a7b879ae6e33"
  },
  {
   "metadata": {},
   "cell_type": "markdown",
   "source": [
    "## Minimum detection costs\n",
    "\n",
    "We have seen during the lectures that, for binary tasks, we can measure the contribution to the cost due\n",
    "to poor class separation and the contribution due to poor score calibration: our classifier does not produce outputs that represent log-likelihood ratios, thus the theoretical threshold is not optimal anymore\n",
    "(note that this happens even for generative models — for example, the model parameters may not be\n",
    "consistent between training and test population). <br>\n",
    "**Scores can be re-calibrated** by using a (small) set of labeled samples, that behave similarly to the evaluation population and were not used for model training (i.e. a validation set). Alternatively, we can\n",
    "compute the optimal threshold for a given application on the same validation set, and use such threshold\n",
    "for the test population (K-fold cross validation can be also exploited to extract validation sets from the\n",
    "training data when validation data is not available). <br>\n",
    "Even if we do not have available such data, it may still be interesting knowing how good the model would\n",
    "perform if we had selected the best possible threshold. **To this extent, we can compute the (normalized) DCF over the test set using all possible thresholds, and select its minimum value.** <br>\n",
    "In practice, we have to make these considerations:\n",
    "- The $DCF(\\pi_T, C_{fn}, C_{fp})$ (or, it's the same, the $\\mathcal{B}_{\\text{emp, norm}}$) measures how well our system makes decisions. These decisions are determined by **comparing a score to a threshold.** In our case the scores are the log-likelihoods ratios and the threshold is computed from the application triplet of type $(\\pi_{H_T}, C_{fn}, C_{fp})$.\n",
    "-  If we shift the threshold **without** crossing a score, the classification of any given sample doesn't change. For example, imagine we have scores $[1, 2, 3]$ and our threshold is $t = 1.5$. Samples with scores $2$ and $3$ are classified as one class, and the sample with score $1$ as the other. If we change the threshold to $t = 1.7$, the classifications remain the same. Therefore, the confusion matrix, and consequently the DCF, also remain the same.\n",
    "- So, the DCF is **piecewise constant** (it's like a *step function*, more precisely it's a monotonic increasing step function): **it only changes at the score values** because the only time the classification of a sample changes is when the threshold moves past its score.\n",
    "\n",
    "Therefore, to compute all the possible values for the DCF and select the *minimum*, we only need to check the DCF at the points where it can change.  And those points are precisely the **test scores**. <br>\n",
    "So, more precisely, we consider a set that contains all the possible test scores, sorted in an **increasing order**, plus the limit values of $\\infty$ and $- \\infty$ to represent the extreme cases of rejecting all samples and accepting all samples:\n",
    "$$\n",
    "\\left( - \\infty, s_0, s_1, s_2, ..., s_M, \\infty \\right)\n",
    "$$\n",
    "We consider all the elements in this set as thresholds $(t_0, t_1, ..., t_N)$ , and for each threshold $t$ we compute  the confusion matrix on the test set itself that would be obtained\n",
    "if scores were thresholded at $t$, and the corresponding normalized DCF using the code developed in the previous section. Remember that in our case the **scores are the $\\text{llr}(x)$**, that we have to sort in increasing order:"
   ],
   "id": "59e9f251193b2b1"
  },
  {
   "metadata": {
    "ExecuteTime": {
     "end_time": "2025-08-24T21:26:35.447325Z",
     "start_time": "2025-08-24T21:26:35.386207Z"
    }
   },
   "cell_type": "code",
   "source": [
    "PriorsSet = [0.5, 0.8, 0.5, 0.8]\n",
    "CfnSet = [1, 1, 10, 1]\n",
    "CfpSet = [1, 1, 1, 10]\n",
    "\n",
    "risks = []\n",
    "for testIndex in range(len(PriorsSet)):\n",
    "    risk = round(BDME.computeMinEmpiricalBayesRisk_Normalized\n",
    "            (log_likelihoods_infpar,\n",
    "             labels_infpar,\n",
    "             PriorsSet[testIndex],\n",
    "             CfnSet[testIndex],\n",
    "             CfpSet[testIndex]), 3)\n",
    "    risks.append(risk)\n",
    "\n",
    "print(f\"\\n\\nMinimum Empirical Bayes Risk Normalized, Commedia infPar Binary Classifier:\")\n",
    "for (index, risk) in enumerate(risks):\n",
    "    print(f\"- Test {index}: {risk :.3f}\")"
   ],
   "id": "b8be7511cc569112",
   "outputs": [
    {
     "name": "stdout",
     "output_type": "stream",
     "text": [
      "\n",
      "\n",
      "Minimum Empirical Bayes Risk Normalized, Commedia infPar Binary Classifier:\n",
      "- Test 0: 0.506\n",
      "- Test 1: 0.752\n",
      "- Test 2: 0.842\n",
      "- Test 3: 0.709\n"
     ]
    }
   ],
   "execution_count": 12
  },
  {
   "metadata": {},
   "cell_type": "markdown",
   "source": [
    "**With the except of the first application, we can observe a significant loss due to poor calibration.** This\n",
    "loss is even more significant for the two applications which had a normalized DCF larger than 1.\n",
    "\n",
    "In these\n",
    "two scenarios, our classifier is able to provide discriminant scores, but **we were not able to employ the scores to make better decisions than those that we would make from the Prior alone** (so, using the *dummy system* that just looks at $\\pi_{H_T}$)."
   ],
   "id": "93a55eb29e7bb946"
  },
  {
   "metadata": {},
   "cell_type": "markdown",
   "source": [
    "## ROC curves\n",
    "ROC (*Receiver Operating Characteristic*) curves are a method to evaluate the trade-off between the different kind of errors for our Recognizer $\\mathcal{R}$. ROC curves can be used, for example, to plot false positive rates $ \\left( \\text{FPR} = P_{fp} \\right)$ versus true positive rates $ \\left( \\text{TPR} = P_{tp} \\right)$ as the\n",
    "threshold $t$ varies.\n",
    "\n",
    "**Note that these plots do not account for errors due to poor selection of the threshold\n",
    "(i.e. mis-calibration), since they simply plot how the error rates change when we modify the threshold\n",
    "on the evaluation set.**\n",
    "\n",
    "Here we're gonna plot the ROC which confronts $P_{fp}$ with $P_{tp}$ for the 2-class problem scores (array of $\\text{llr}(x)$):"
   ],
   "id": "d618516d7ae6b0fe"
  },
  {
   "metadata": {
    "ExecuteTime": {
     "end_time": "2025-08-24T21:26:35.456080Z",
     "start_time": "2025-08-24T21:26:35.453922Z"
    }
   },
   "cell_type": "code",
   "source": [
    "def plotROC_FPRvsTPR(scores, LVAL):\n",
    "    \"\"\"\n",
    "    Plot the ROC curve for a given set of scores and labels.\n",
    "    Args:\n",
    "    - scores: log likelihood ratios\n",
    "    - LVAL: actual labels\n",
    "    \"\"\"\n",
    "\n",
    "\n",
    "    #1. sort the scores in increasing order to use them as thresholds\n",
    "    sortedScores = np.sort(scores)\n",
    "\n",
    "    #2. add the -inf and +inf to the sorted scores to use them as thresholds\n",
    "    sortedScores = np.concatenate(([-np.inf], sortedScores, [np.inf]))\n",
    "    #now we have sortedScores = (-inf, s0, s1, s2, ..., sN, +inf)\n",
    "\n",
    "    #initialize the x and y axis for the ROC curve\n",
    "    xAxis = []\n",
    "    yAxis = []\n",
    "\n",
    "    for t in sortedScores:\n",
    "        #score IS THE THRESHOLD!\n",
    "        #Classification rule: if llr > t, classify as 1, else classify as 0\n",
    "        PVAL = np.where(scores > t, 1, 0)\n",
    "\n",
    "        #compute confusion matrix\n",
    "        confMatrix = BDME.computeConfMatrix(PVAL, LVAL)\n",
    "\n",
    "\n",
    "        #now, extract the TP, TN, FP and FN from the confusion matrix\n",
    "        TP = confMatrix[1, 1] #True Positives\n",
    "        TN = confMatrix[0, 0] #True Negatives\n",
    "        FP = confMatrix[1, 0] #False Positives\n",
    "        FN = confMatrix[0, 1] #False Negatives\n",
    "\n",
    "        #comupte Pfn, Pfp\n",
    "        Pfn = FN / (FN + TP) #False Negative Rate\n",
    "        Pfp = FP / (FP + TN) #False Positive Rate\n",
    "        Ptp = 1 - Pfn #True Positive Rate\n",
    "\n",
    "        #ROC: Pfp vs Ptp\n",
    "        #Pfp on x axis, Ptp on y axis\n",
    "        xAxis.append(Pfp)\n",
    "        yAxis.append(Ptp)\n",
    "\n",
    "    #3. plot the ROC curve\n",
    "    plt.figure(figsize=(8, 6))\n",
    "    plt.plot(xAxis, yAxis, marker='o', linestyle='-', markersize=1, color='blue')\n",
    "    plt.title(\"ROC Curve: FPR vs TPR\", pad=20, fontsize=14)\n",
    "    plt.xlabel(\"False Positive Rate (FPR)\")\n",
    "    plt.ylabel(\"True Positive Rate (TPR)\")\n",
    "    plt.grid(True)\n",
    "    #limit the x and y axis to [0, 1], since the values of FPR and TPR are between 0 and 1\n",
    "    #this is done for better visualization of the ROC curve, not to have empty parts of the plot\n",
    "    plt.xlim(0, 1)\n",
    "    plt.ylim(0, 1)\n",
    "    plt.show()\n"
   ],
   "id": "f89b9c79a06fbfd7",
   "outputs": [],
   "execution_count": 13
  },
  {
   "metadata": {
    "ExecuteTime": {
     "end_time": "2025-08-24T21:26:35.530085Z",
     "start_time": "2025-08-24T21:26:35.462282Z"
    }
   },
   "cell_type": "code",
   "source": "plotROC_FPRvsTPR(log_likelihoods_infpar, labels_infpar)",
   "id": "f410a2a653faac46",
   "outputs": [
    {
     "data": {
      "text/plain": [
       "<Figure size 800x600 with 1 Axes>"
      ],
      "image/png": "[encoded data removed]"
     },
     "metadata": {},
     "output_type": "display_data"
    }
   ],
   "execution_count": 14
  },
  {
   "metadata": {},
   "cell_type": "markdown",
   "source": [
    "## Bayes error plots\n",
    "The last tool that we consider to assess the performance of our recognizer $\\mathcal{R}$ consists in plotting the normalized costs as a function of an **effective Prior** $\\tilde{\\pi}$. <br>\n",
    "For binary problems, an application defined by the triplet $(\\pi_{H_T}, C_{fn}, C_{fp})$ is actually **equivalent** to a *general* application $(\\tilde{\\pi}, 1, 1)$ where the costs are normalized and have both unitary value and the $\\tilde{\\pi}$ is the effective Prior, calculated as:\n",
    "$$\n",
    "\\tilde{\\pi} = \\frac{\\pi_T C_{fn}}{\\pi_T C_{fn} + (1 - \\pi_T) C_{fp}}\n",
    "$$\n",
    "In order to demonstrate this we have to recall the classification rule we use with the binary Classifier, which compares the $\\text{llr}(x)$ with a Threshold $t$:\n",
    "\n",
    "$$\n",
    "c^* =\n",
    "\\begin{cases}\n",
    "    H_T & \\text{if } \\text{llr}(x) = \\log \\frac{f_{X|C,\\mathcal{R}}(x|H_T)}{f_{X|C,\\mathcal{R}}(x|H_F)} > t = - \\log \\frac{\\pi_{H_T} C_{fn}}{(1- \\pi_{H_T}) C_{fp}} \\\\ \\\\\n",
    "    H_F & \\text{if } \\text{llr}(x) = \\log \\frac{f_{X|C,\\mathcal{R}}(x|H_T)}{f_{X|C,\\mathcal{R}}(x|H_F)} \\le t = - \\log \\frac{\\pi_{H_T} C_{fn}}{(1- \\pi_{H_T}) C_{fp}}\n",
    "\\end{cases}\n",
    "$$\n",
    "\n",
    "The threshold $t$ can be rewritten as:\n",
    "$$\n",
    "t = \\log \\frac{(1- \\pi_{H_T}) C_{fp}}{\\pi_{H_T} C_{fn}}\n",
    "$$\n",
    "\n",
    "Now, let's consider the normalized cost scenario where the costs of false negative and false positive are both 1 ($C'_{fn} = 1$ and $C'_{fp} = 1$) and the effective Prior for the true class is $\\tilde{\\pi}$. The classification rule in this normalized scenario would have a threshold $\\tilde{t}$:\n",
    "\n",
    "$$\n",
    "\\tilde{t} = - \\log \\frac{\\pi_{H_T} C'_{fn}}{(1- \\pi_{H_T}) C'_{fp}} \\bigg|_{C'_{fn} = C'_{fp} = 1} = - \\log \\frac{\\tilde{\\pi} \\cdot 1}{(1 - \\tilde{\\pi}) \\cdot 1} = - \\log \\frac{\\tilde{\\pi}}{1 - \\tilde{\\pi}} = \\log \\frac{1 - \\tilde{\\pi}}{\\tilde{\\pi}}\n",
    "$$\n",
    "\n",
    "\n",
    "**The fundamental idea behind the effective Prior is that the decision boundary (the threshold) should correspond to the same operating point in both the original and the normalized cost scenarios. Since in the normalized scenario we have unitary costs, the effective Prior will take into account the original costs ($C_{fn}$ and $C_{fp}$) in order to make the two applications equivalent.** Therefore, we can equate the thresholds:\n",
    "\n",
    "$$t = \\tilde{t}$$\n",
    "\n",
    "$$\n",
    "\\log \\left( \\frac{(1- \\pi_{H_T}) C_{fp}}{\\pi_{H_T} C_{fn}} \\right) = \\log \\left( \\frac{1 - \\tilde{\\pi}}{\\tilde{\\pi}} \\right)\n",
    "$$\n",
    "\n",
    "We can then exponentiate both terms:\n",
    "\n",
    "$$\n",
    "\\frac{(1- \\pi_{H_T}) C_{fp}}{\\pi_{H_T} C_{fn}} = \\frac{1 - \\tilde{\\pi}}{\\tilde{\\pi}}\n",
    "$$\n",
    "\n",
    "Now, we solve this equation for $\\tilde{\\pi}$:\n",
    "\n",
    "$$\n",
    "(1 - \\tilde{\\pi}) \\pi_{H_T} C_{fn} = \\tilde{\\pi} (1 - \\pi_{H_T}) C_{fp}\n",
    "$$\n",
    "\n",
    "$$\n",
    "\\pi_{H_T} C_{fn} - \\tilde{\\pi} \\pi_{H_T} C_{fn} = \\tilde{\\pi} (1 - \\pi_{H_T}) C_{fp}\n",
    "$$\n",
    "\n",
    "$$\n",
    "\\pi_{H_T} C_{fn} = \\tilde{\\pi} (1 - \\pi_{H_T}) C_{fp} + \\tilde{\\pi} \\pi_{H_T} C_{fn}\n",
    "$$\n",
    "\n",
    "$$\n",
    "\\pi_{H_T} C_{fn} = \\tilde{\\pi} [ (1 - \\pi_{H_T}) C_{fp} + \\pi_{H_T} C_{fn} ]\n",
    "$$\n",
    "\n",
    "Finally, we isolate the effective Prior $\\tilde{\\pi}$:\n",
    "\n",
    "$$\n",
    "\\tilde{\\pi} = \\frac{\\pi_{H_T} C_{fn}}{(1 - \\pi_{H_T}) C_{fp} + \\pi_{H_T} C_{fn}}\n",
    "$$\n",
    "\n",
    "This demonstrates how the formula for the effective Prior arises from equating the decision thresholds of the original cost scenario and the normalized cost scenario. <br> <br>\n",
    "So, The normalized Bayes Error Plot allows assessing the performance of the Recognizer $\\mathcal{R}$ as **we vary the application**, i.e. as a function of prior log-odds:\n",
    "$$\n",
    "\\tilde{p} = \\log \\frac{1 - \\tilde{\\pi}}{\\tilde{\\pi}}\n",
    "$$\n",
    "In order to compute the Bayes Error Plot, we can consider values of $\\tilde{p}$ ranging, for example, from $-3$ to $+3$. Then, for each value of $\\tilde{p}$, we compute $\\tilde{\\pi}$:\n",
    "$$\n",
    "\\tilde{p} = \\log \\frac{1 - \\tilde{\\pi}}{\\tilde{\\pi}} \\Longleftrightarrow e^{\\tilde{p}} (1- \\tilde{\\pi}) = \\tilde{\\pi} \\Longleftrightarrow \\tilde{\\pi} = \\frac{e^{\\tilde{p}}}{1 + e^{\\tilde{p}}} \\Longleftrightarrow \\tilde{\\pi} = \\frac{1}{1 + e^{- \\tilde{p}}}\n",
    "$$\n",
    "After that, we compute the normalized DCF, and the normalized minimum DCF corresponding to $\\tilde{\\pi}$ and then plot these values as a function of $\\tilde{p} = \\log \\frac{1 - \\tilde{\\pi}}{\\tilde{\\pi}}$:"
   ],
   "id": "265abd3f3c6874b6"
  },
  {
   "metadata": {
    "ExecuteTime": {
     "end_time": "2025-08-24T21:26:37.049705Z",
     "start_time": "2025-08-24T21:26:35.541804Z"
    }
   },
   "cell_type": "code",
   "source": [
    "effPriorLogOdds = np.linspace(-3, 3, 100) #range of log odds ratios\n",
    "\n",
    "BDME.plotBayesErrorPlots(effPriorLogOdds, log_likelihoods_infpar, labels_infpar) #plot the Bayes error plots for the given range of log odds ratios and scores"
   ],
   "id": "c783923a892b9648",
   "outputs": [
    {
     "data": {
      "text/plain": [
       "<Figure size 800x600 with 1 Axes>"
      ],
      "image/png": "[encoded data removed]"
     },
     "metadata": {},
     "output_type": "display_data"
    }
   ],
   "execution_count": 15
  },
  {
   "metadata": {},
   "cell_type": "markdown",
   "source": [
    "Analysis about the graphic result:\n",
    "- The application is a general, normalized application described by the triplet $(\\tilde{\\pi}, 1, 1)$. $\\tilde{\\pi}$ is computed from the Effective Priors log-odds $\\tilde{p} = \\log \\frac{1 - \\tilde{\\pi}}{\\tilde{\\pi}}$. So $\\tilde{\\pi}$ is a function of $\\tilde{p}$. This means the $\\text{DCF}(\\tilde{\\pi}, 1, 1)$ and $\\text{min DCF}(\\tilde{\\pi}, 1, 1)$ computed here are as well functions of $\\tilde{p}$ and can be expressed as $\\text{DCF}(\\tilde{p}, 1, 1)$ and $\\text{min DCF}(\\tilde{p}, 1, 1)$. By changing $\\tilde{p}$ we change the application and therefore we change $\\text{DCF}(\\tilde{p}, 1, 1)$ and $\\text{min DCF}(\\tilde{p}, 1, 1)$. The Bayes Error Plot wants to show these changes when varying $\\tilde{p}$.\n",
    "- The blue curve represents the $\\text{min DCF}$ as a function of the Effective Prior log odds $\\tilde{p}$ and represents the **best possible performance** the Recognizer $\\mathcal{R}$ is able to deliver if we set an effective prior log-odds. It acts as a lower bound for the actual $\\text{DCF}$. We can note, and this is quite expected (although for very harmful models it's not always the same), that the model is always **good/useful** for each value of $\\tilde{p}$ because the $\\text{min DCF}$ always remains below $1$, so the model is able to achieve better results than the best dummy system which just relies on the Effective Priors.\n",
    "- The red curve represents the $\\text{DCF}$ as a function of the Effective Prior log odds $\\tilde{p}$ and shows the actual decision cost achieved by the Recognizer $\\mathcal{R}$ at different operating points defined by the $\\tilde{p}$ we choose. We can see that in this case, for values of $\\tilde{p}$ approximately not belonging to the interval $(-1;1.4]$ the model becomes **harmful/useless** because $\\text{DCF}(\\tilde{p}, 1, 1) > 1$ so it cannot beat anymore the best of the dummy systems.\n",
    "- The gap between the $\\text{DCF}(\\tilde{p}, 1, 1)$ and $\\text{min DCF}(\\tilde{p}, 1, 1)$ indicates the the **miss-calibration error** and indicates the room for improvement in the Classifier $\\mathcal{R}$.\n",
    "- The minimum of the $\\text{min DCF}(\\tilde{p}, 1, 1)$ curve (blue curve) suggests the **theoretically optimal operating point** for the recognizer $\\mathcal{R}$. It corresponds to the working point $\\tilde{p} = 0$, which in turn corresponds to this Effective Prior:\n",
    "  $$\n",
    "  \\tilde{\\pi}_{\\tilde{p} = 0} = \\tilde{\\pi}_{\\text{O.O.P.}} = \\frac{e^{\\tilde{p}}}{1 + e^{\\tilde{p}}} \\bigg|_{\\tilde{p} = 0} = \\frac{1}{1+1} = \\frac{1}{2}\n",
    "  $$\n",
    "  $\\tilde{\\pi} = 0.5$ **indicates equal Prior probabilities for both classes in the effective normalized scenario** $\\left(\\tilde{\\pi}_{H_T} = \\tilde{\\pi}_{H_F} = 0.5 \\right)$.\n",
    "- The shape of the $\\text{DCF}$ curve tells us about the **robustness** of the system. A flatter curve indicates that the performance is less sensitive to changes in the operating conditions whereas a steeper curve tells us the Recognizer is much more sensitive to $\\tilde{p}$. We can observe that the $\\text{DCF}(\\tilde{p}, 1, 1)$ is **much more sensitive** to the changes in the operating conditions than the $\\text{min DCF}(\\tilde{p}, 1, 1)$."
   ],
   "id": "9d9ba14b0b5f5c81"
  },
  {
   "metadata": {},
   "cell_type": "markdown",
   "source": [
    "## Comparing Recognizers\n",
    "We now employ the tools that we have seen to compare two different recognizers for the same 2-class\n",
    "problem: correspond to the pseudocounts $\\mathcal{E} = 0.001$\n",
    "and $\\mathcal{E} = 1$ variations of the Laboratory 7 multinomial model."
   ],
   "id": "3c5284befed367a2"
  },
  {
   "metadata": {
    "ExecuteTime": {
     "end_time": "2025-08-24T21:26:37.055267Z",
     "start_time": "2025-08-24T21:26:37.052876Z"
    }
   },
   "cell_type": "code",
   "source": [
    "#Load llrs (scores) and labels for the second model having pseucocounts eps = 1\n",
    "llr_infPar_eps1 = np.load(\"../data/commedia_llr_infpar_eps1.npy\")\n",
    "print(f\"llr_infPar_eps1 shape: {llr_infPar_eps1.shape}\")\n",
    "labels_infPar_eps1 = np.load(\"../data/commedia_labels_infpar_eps1.npy\")\n",
    "print(f\"labels_infPar_eps1 shape: {labels_infPar_eps1.shape}\")"
   ],
   "id": "f3b03fcf906ddd3d",
   "outputs": [
    {
     "name": "stdout",
     "output_type": "stream",
     "text": [
      "llr_infPar_eps1 shape: (802,)\n",
      "labels_infPar_eps1 shape: (802,)\n"
     ]
    }
   ],
   "execution_count": 16
  },
  {
   "metadata": {
    "ExecuteTime": {
     "end_time": "2025-08-24T21:26:40.073679Z",
     "start_time": "2025-08-24T21:26:37.062081Z"
    }
   },
   "cell_type": "code",
   "source": [
    "#Compare the two Recognizers\n",
    "\n",
    "effPriorLogOdds = np.linspace(-3, 3, 100) #range of log odds ratios\n",
    "\n",
    "models = [\n",
    "    [effPriorLogOdds, log_likelihoods_infpar, labels_infpar, \"eps=0.001\"],\n",
    "    [effPriorLogOdds, llr_infPar_eps1, labels_infPar_eps1, \"eps=1\"]\n",
    "]\n",
    "\n",
    "BDME.plotBayesErrorPlotsMoreModels(models) #plot the Bayes error plots for the two models"
   ],
   "id": "3c506052b0037d7a",
   "outputs": [
    {
     "data": {
      "text/plain": [
       "<Figure size 800x600 with 1 Axes>"
      ],
      "image/png": "[encoded data removed]"
     },
     "metadata": {},
     "output_type": "display_data"
    }
   ],
   "execution_count": 17
  },
  {
   "metadata": {},
   "cell_type": "markdown",
   "source": [
    "We can conclude that the second model is superior over a wide range of applications (lower DCF), and\n",
    "also produces better calibrated scores (lower gap between DCF and minimum DCF).\n"
   ],
   "id": "d4d00815f93ff761"
  },
  {
   "metadata": {},
   "cell_type": "markdown",
   "source": [
    "## Multiclass evaluation\n",
    "We're moving into the realm of multiclass classification. The key difference between multiclass classification and binary classification is that the operating conditions are no longer governed by a single prior log-odds, and the decision rules involve comparing costs across multiple classes, so multiclass classification is generally **more complex**. As a matter of fact, in multiclass problem there are $K > 2$ distinct classes and instead of a single Prior probability $\\pi_{H_T}$ determining the balance between all classes (as it was in the binary case), we now have a vector of Priors $\\boldsymbol{\\pi} = [\\pi_0, \\pi_1, \\pi_2, ..., \\pi_{K-1}]$ having $K$ Priors (one for each class) and satisying the probability contraint: $\\sum_{k=0}^{K-1} \\pi_k = 1$. Also the Cost matrix $\\mathbf{C}$ is now more complex as it is now a $K \\times K$ matrix, where $C_{i, j}$ is the cost of classifying a test sample actually belonging to class $j$ as class $i$. While the diagonal elements are typically zero because there's usually no cost in making the correct prediction ($C_{i,i}=0$), the off-diagonal elements $C_{i,j}$ where $i \\neq j$\n",
    "can have arbitrary relationships, introducing more independent parameters than in the binary case (where only $C_{fp}$ and $C_{fn}$ are independent after normalization). <br>\n",
    "**The most important drawback here is that we cannot represent the whole application using a single paramater like the effective Prior $\\tilde{\\pi}$ used in the binary case**: the reduction to a single effective Prior in the binary case was possible because the decision was essentially one-dimensional (favoring one class over the other based on a single threshold). Multiclass problems introduce a higher-dimensional decision space governed by multiple Priors and a more complex cost structure, requiring the consideration of trade-offs between multiple classification possibilities. <br>\n",
    "For these reasons, we restrict our analysis to confusion matrices and Bayes costs. <br>\n",
    "In this case we have three classes, so the cost matrix has the\n",
    "form:\n",
    "$$\n",
    "\\mathbf{C} =\n",
    "\\begin{array}{c|ccc}\n",
    "\\text{ } & \\text{Class 0} & \\text{Class 1} & \\text{Class 2} \\\\\n",
    "\\hline\n",
    "\\text{Predicted 0} & 0 & C_{0,1} & C_{0,2} \\\\\n",
    "\\text{Predicted 1} & C_{1,0} & 0 & C_{1,2} \\\\\n",
    "\\text{Predicted 2} & C_{2,0} & C_{2,1} & 0\n",
    "\\end{array}\n",
    "=\n",
    "\\begin{bmatrix}\n",
    "0 & C_{0,1} & C_{0,2} \\\\\n",
    "C_{1,0} & 0 & C_{1,2} \\\\\n",
    "C_{2,0} & C_{2,1} & 0\n",
    "\\end{bmatrix}\n",
    "$$\n",
    "where $\\text{Class 0} = C_0$ is *Inferno*, $\\text{Class 1} = C_1$ is *Purgatorio* and $\\text{Class 2} = C_2$ is *Paradiso*. <br>\n",
    "The vector of Priors is this:\n",
    "$$\n",
    "\\boldsymbol{\\pi} =\n",
    "\\begin{bmatrix}\n",
    "\\pi_0 \\\\\n",
    "\\pi_1 \\\\\n",
    "\\pi_2\n",
    "\\end{bmatrix}\n",
    "$$\n",
    "where $\\sum_{k=0}^{K-1} \\pi_k = \\pi_0 + \\pi_1 + \\pi_2 = 1$ (Rule of Probability). <br>\n",
    "The Bayes cost of classifying a test sample $x_t$ as belonging to class $c$ can be computed as\n",
    "$$\n",
    "C_{x_t,\\mathcal{R}}(c) = \\sum_{k=0}^{K-1} C_{c,k}P(C = k|x_t, \\mathcal{R})\n",
    "$$"
   ],
   "id": "f70dce625358649d"
  },
  {
   "metadata": {
    "ExecuteTime": {
     "end_time": "2025-08-24T21:26:40.083303Z",
     "start_time": "2025-08-24T21:26:40.081021Z"
    }
   },
   "cell_type": "code",
   "source": [
    "#load log-lieklihoods and labels for the 3 class problem\n",
    "ll_commedia = np.load(\"../data/commedia_ll.npy\")\n",
    "labels_commedia = np.load(\"../data/commedia_labels.npy\")\n",
    "print(f\"ll_commedia shape: {ll_commedia.shape}\")\n",
    "print(f\"labels_commedia shape: {labels_commedia.shape}\")"
   ],
   "id": "f29aec1377bda274",
   "outputs": [
    {
     "name": "stdout",
     "output_type": "stream",
     "text": [
      "ll_commedia shape: (3, 1204)\n",
      "labels_commedia shape: (1204,)\n"
     ]
    }
   ],
   "execution_count": 18
  },
  {
   "metadata": {
    "ExecuteTime": {
     "end_time": "2025-08-24T21:26:40.093093Z",
     "start_time": "2025-08-24T21:26:40.091168Z"
    }
   },
   "cell_type": "code",
   "source": [
    "#Prios vectors\n",
    "PriorsVect = np.array([0.3, 0.4, 0.3])\n",
    "print(f\"PriorsVect shape: {PriorsVect.shape}\") #check the shape of the Priors vector\n",
    "print(f\"PriorsVect:\\n{PriorsVect}\") #check the values of the Priors vector\n",
    "\n",
    "\n",
    "#Cost Matrix\n",
    "C = np.array([[0, 1, 2], [1, 0, 1], [2, 1, 0]])\n",
    "print(f\"\\nCost Matrix shape: {C.shape}\") #check the shape of the Cost Matrix\n",
    "print(f\"Cost Matrix:\\n{C}\") #check the values of the Cost Matrix"
   ],
   "id": "7d99861919431549",
   "outputs": [
    {
     "name": "stdout",
     "output_type": "stream",
     "text": [
      "PriorsVect shape: (3,)\n",
      "PriorsVect:\n",
      "[0.3 0.4 0.3]\n",
      "\n",
      "Cost Matrix shape: (3, 3)\n",
      "Cost Matrix:\n",
      "[[0 1 2]\n",
      " [1 0 1]\n",
      " [2 1 0]]\n"
     ]
    }
   ],
   "execution_count": 19
  },
  {
   "metadata": {
    "ExecuteTime": {
     "end_time": "2025-08-24T21:26:40.105949Z",
     "start_time": "2025-08-24T21:26:40.103703Z"
    }
   },
   "cell_type": "code",
   "source": [
    "#Compute the matrix of the Posterior probabilities for the 3 class problem\n",
    "\n",
    "#so first compute the joint from the lieklihoods and the priors\n",
    "SJoint = MVG.computeSJoint(ll_commedia, PriorsVect, useLog=True) #compute the joint densities by multiplying the score matrix S with the Priors\n",
    "print(f\"Joint densities shape: {SJoint.shape}\")\n",
    "\n",
    "#then compute the posteriors by normalizing the joint densities\n",
    "SPost = MVG.computePosteriors(SJoint, useLog=True) #compute the posteriors by normalizing the joint densities\n",
    "print(f\"Posteriors shape: {SPost.shape}\")\n"
   ],
   "id": "e1fc31093bf65320",
   "outputs": [
    {
     "name": "stdout",
     "output_type": "stream",
     "text": [
      "Joint densities shape: (3, 1204)\n",
      "Posteriors shape: (3, 1204)\n"
     ]
    }
   ],
   "execution_count": 20
  },
  {
   "metadata": {},
   "cell_type": "markdown",
   "source": [
    "So far, we've computed the matrix of the Posteriors. So, for each one of the $1024$ samples, we have the column vector of the three Posteriors for the three classes, according to the Recognizer $\\mathcal{R}$:\n",
    "$$\n",
    "\\mathbf{P}_{x_t,\\mathcal{R}} =\n",
    "\\begin{bmatrix}\n",
    "P(C = 0|x_t, \\mathcal{R}) \\\\\n",
    "P(C = 1|x_t, \\mathcal{R}) \\\\\n",
    "P(C = 2|x_t, \\mathcal{R})\n",
    "\\end{bmatrix}\n",
    "$$\n",
    "The Posteriors Matrix has $1024$ of these vectors, one for each sample $x_t$. <br>\n",
    "Then, for each sample $x_t$ we can compute its respective vector of Bayes costs\n",
    "$$\n",
    "\\mathbf{C}_{x_t,\\mathcal{R}} =\n",
    "\\begin{bmatrix}\n",
    "C_{x_t,\\mathcal{R}}(0) \\\\\n",
    "C_{x_t,\\mathcal{R}}(1) \\\\\n",
    "C_{x_t,\\mathcal{R}}(2)\n",
    "\\end{bmatrix}\n",
    "$$\n",
    "by multiplying its respective $\\mathbf{P}_{x_t,\\mathcal{R}}$ by the Cost Matrix $\\mathbf{C}$:\n",
    "$$\n",
    "C_{x_t,\\mathcal{R}} = \\mathbf{C} \\mathbf{P}_{x_t,\\mathcal{R}}\n",
    "$$\n",
    "The, for each sample $x_t$ we just have to select the **optimal Bayes Cost** which is the minimum of all the Bayest Costs. We use this result to assign the class to the sample. So, for each sample, the optimal Bayes decision is: $c^* = \\underset{c \\in \\{0, 1, 2\\}}{\\operatorname{argmin}} \\{ C_{x_t, \\mathcal{R}}(c) \\}$. <br>\n",
    "So, in terms of code, we can write:"
   ],
   "id": "de7e9e24658d36db"
  },
  {
   "metadata": {
    "ExecuteTime": {
     "end_time": "2025-08-24T21:26:40.117832Z",
     "start_time": "2025-08-24T21:26:40.113789Z"
    }
   },
   "cell_type": "code",
   "source": [
    "OptimalCosts = BDME.optimalBayesDecisionClassifier_MultiClass(ll_commedia, labels_commedia, PriorsVect, C)\n",
    "print(f\"Optimal Costs shape: {OptimalCosts.shape}\") #check the shape of the Optimal Costs\n",
    "print(f\"First 10 Predicted Classes: {OptimalCosts[:10]}\") #check the values of the Optimal Costs"
   ],
   "id": "9ba906ad55fd6d57",
   "outputs": [
    {
     "name": "stdout",
     "output_type": "stream",
     "text": [
      "Optimal Costs shape: (1204,)\n",
      "First 10 Predicted Classes: [1 0 1 1 1 0 1 2 1 1]\n"
     ]
    }
   ],
   "execution_count": 21
  },
  {
   "metadata": {
    "ExecuteTime": {
     "end_time": "2025-08-24T21:26:40.127663Z",
     "start_time": "2025-08-24T21:26:40.125796Z"
    }
   },
   "cell_type": "code",
   "source": "ll_commedia.shape, labels_commedia.shape, PriorsVect.shape, C.shape #check the shapes of the inputs to the function",
   "id": "d82dea3894ed0524",
   "outputs": [
    {
     "data": {
      "text/plain": [
       "((3, 1204), (1204,), (3,), (3, 3))"
      ]
     },
     "execution_count": 22,
     "metadata": {},
     "output_type": "execute_result"
    }
   ],
   "execution_count": 22
  },
  {
   "metadata": {
    "ExecuteTime": {
     "end_time": "2025-08-24T21:26:40.138928Z",
     "start_time": "2025-08-24T21:26:40.136608Z"
    }
   },
   "cell_type": "code",
   "source": [
    "confMatrix, DCF_u, DCF = BDME.computeEmpiricalBayesRisk_Normalized_MultiClass(ll_commedia, labels_commedia, PriorsVect, C) #compute the empirical Bayes risk\n",
    "print(f\"Confusion Matrix:\\n{confMatrix}\") #print the confusion matrix\n",
    "print(f\"Unnormalized DCF: {DCF_u}\") #print the unnormalized DCF\n",
    "print(f\"Normalized DCF: {DCF}\") #print the normalized DCF"
   ],
   "id": "6583147ac107f066",
   "outputs": [
    {
     "name": "stdout",
     "output_type": "stream",
     "text": [
      "Confusion Matrix:\n",
      "[[205. 111.  56.]\n",
      " [145. 199. 121.]\n",
      " [ 50.  92. 225.]]\n",
      "Unnormalized DCF: 0.5596206467661692\n",
      "Normalized DCF: 0.9327010779436153\n"
     ]
    }
   ],
   "execution_count": 23
  },
  {
   "metadata": {},
   "cell_type": "markdown",
   "source": [
    "If now we have another application with **uniform class Priors and costs**:\n",
    "$$\n",
    "\\boldsymbol{\\pi} = \\left[\\frac{1}{3}, \\frac{1}{3}, \\frac{1}{3}\\right]\n",
    "$$\n",
    "$$\n",
    "\\mathbf{C} =\n",
    "\\begin{bmatrix}\n",
    "0 & C_{0,1} & C_{0,2} \\\\\n",
    "C_{1,0} & 0 & C_{1,2} \\\\\n",
    "C_{2,0} & C_{2,1} & 0\n",
    "\\end{bmatrix}\n",
    "=\n",
    "\\begin{bmatrix}\n",
    "0 & 1 & 1 \\\\\n",
    "1 & 0 & 1 \\\\\n",
    "1 & 1 & 0\n",
    "\\end{bmatrix}\n",
    "$$\n",
    "we obtain:"
   ],
   "id": "c6a4fd458b2ec0c9"
  },
  {
   "metadata": {
    "ExecuteTime": {
     "end_time": "2025-08-24T21:27:50.233449Z",
     "start_time": "2025-08-24T21:27:50.230400Z"
    }
   },
   "cell_type": "code",
   "source": [
    "PriorsVect_uniform = np.array([1/3, 1/3, 1/3]) #uniform priors for the three classes\n",
    "C_uniform = np.array([[0, 1, 1], [1, 0, 1], [1, 1, 0]]) #uniform cost matrix for the three classes\n",
    "confMatrix_uniform, DCF_u_uniform, DCF_uniform = BDME.computeEmpiricalBayesRisk_Normalized_MultiClass(ll_commedia, labels_commedia, PriorsVect_uniform, C_uniform) #compute the empirical Bayes risk\n",
    "print(f\"Confusion Matrix:\\n{confMatrix_uniform}\") #print the confusion matrix\n",
    "print(f\"Unnormalized DCF: {DCF_u_uniform}\") #print the unnormalized DCF\n",
    "print(f\"Normalized DCF: {DCF_uniform}\") #print the normalized DCF"
   ],
   "id": "39a1815b6ffdd371",
   "outputs": [
    {
     "name": "stdout",
     "output_type": "stream",
     "text": [
      "Confusion Matrix:\n",
      "[[210. 113.  61.]\n",
      " [137. 191. 111.]\n",
      " [ 53.  98. 230.]]\n",
      "Unnormalized DCF: 0.4759121061359867\n",
      "Normalized DCF: 0.7138681592039802\n"
     ]
    }
   ],
   "execution_count": 24
  }
 ],
 "metadata": {
  "kernelspec": {
   "name": "python3",
   "language": "python",
   "display_name": "Python 3 (ipykernel)"
  }
 },
 "nbformat": 5,
 "nbformat_minor": 9
}
