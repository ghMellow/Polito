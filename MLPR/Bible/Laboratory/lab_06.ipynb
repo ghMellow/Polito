{
 "cells": [
  {
   "cell_type": "code",
   "id": "initial_id",
   "metadata": {
    "collapsed": true,
    "ExecuteTime": {
     "end_time": "2025-09-03T11:02:36.591347Z",
     "start_time": "2025-09-03T11:02:36.589127Z"
    }
   },
   "source": [
    "import numpy as np\n",
    "import matplotlib.pyplot as plt\n",
    "\n",
    "import load_split\n",
    "import mean_covariance\n",
    "import Bayes_decisions_Model_evaluation as BDME\n",
    "import MVG.MVG as MVG"
   ],
   "outputs": [],
   "execution_count": 116
  },
  {
   "metadata": {
    "ExecuteTime": {
     "end_time": "2025-09-03T11:02:36.599585Z",
     "start_time": "2025-09-03T11:02:36.595924Z"
    }
   },
   "cell_type": "code",
   "source": [
    "D, L = load_split.load_iris()\n",
    "(DTR, LTR), (DVAL, LVAL) = load_split.split_db_2to1(D, L)\n",
    "print(\"Training data shape: \", DTR.shape)\n",
    "print(\"Training labels shape: \", LTR.shape)\n",
    "print(\"Evaluation data shape: \", DVAL.shape)\n",
    "print(\"Evaluation labels shape: \", LVAL.shape)"
   ],
   "id": "44799eb3416960c5",
   "outputs": [
    {
     "name": "stdout",
     "output_type": "stream",
     "text": [
      "Training data shape:  (4, 100)\n",
      "Training labels shape:  (100,)\n",
      "Evaluation data shape:  (4, 50)\n",
      "Evaluation labels shape:  (50,)\n"
     ]
    }
   ],
   "execution_count": 117
  },
  {
   "metadata": {
    "ExecuteTime": {
     "end_time": "2025-09-03T11:02:36.609759Z",
     "start_time": "2025-09-03T11:02:36.607341Z"
    }
   },
   "cell_type": "code",
   "source": [
    "#Select for each sample the class with the highest posterior probability\n",
    "PVAL_MVG, err = MVG.pipeline(DTR, LTR, DVAL, LVAL) #select the class with the highest posterior probability for each sample, set axis=0 to select the class with the highest posterior probability for each sample\n",
    "print(f\"Predictions shape: {PVAL_MVG.shape}\")\n",
    "print(f\"Predictions: {PVAL_MVG}\")"
   ],
   "id": "a6bc25957fe1639d",
   "outputs": [
    {
     "name": "stdout",
     "output_type": "stream",
     "text": [
      "Predictions shape: (50,)\n",
      "Predictions: [0 0 1 2 2 0 0 0 1 1 0 0 1 0 2 1 2 1 0 2 0 2 0 0 2 0 2 1 1 1 2 2 2 1 0 1 2\n",
      " 2 0 1 1 2 1 0 0 0 2 1 2 0]\n"
     ]
    }
   ],
   "execution_count": 118
  },
  {
   "metadata": {
    "ExecuteTime": {
     "end_time": "2025-09-03T11:02:36.627125Z",
     "start_time": "2025-09-03T11:02:36.625018Z"
    }
   },
   "cell_type": "code",
   "source": [
    "error_count_MVG = np.count_nonzero(PVAL_MVG != LVAL)\n",
    "print(f\"Number of wrong predictions: {error_count_MVG}\")\n",
    "error_rate_MVG = np.mean(PVAL_MVG != LVAL)\n",
    "print(f\"Error Rate: {error_rate_MVG:.2%}\")"
   ],
   "id": "48d7071648125dca",
   "outputs": [
    {
     "name": "stdout",
     "output_type": "stream",
     "text": [
      "Number of wrong predictions: 2\n",
      "Error Rate: 4.00%\n"
     ]
    }
   ],
   "execution_count": 119
  },
  {
   "metadata": {},
   "cell_type": "markdown",
   "source": [
    "Accuracy, Precision, Recall, F-1 Score for the MVG gmm model: <br>\n",
    "With 3 classes, accuracy is compute as:\n",
    "$\n",
    "acc = \\frac{Correct \\space predictions}{Tot \\space samples} = \\frac{T0+T1+T2}{T0+T1+T2+F0+F1+F2} = 1 - Error \\space Rate\n",
    "$"
   ],
   "id": "5fa24062935139a9"
  },
  {
   "metadata": {
    "ExecuteTime": {
     "end_time": "2025-09-03T11:02:36.641805Z",
     "start_time": "2025-09-03T11:02:36.635980Z"
    }
   },
   "cell_type": "code",
   "source": [
    "from sklearn.metrics import classification_report #for generating the classification report of the models\n",
    "print(classification_report(LVAL, PVAL_MVG, digits=3))"
   ],
   "id": "4766f6d05d77d2c2",
   "outputs": [
    {
     "name": "stdout",
     "output_type": "stream",
     "text": [
      "              precision    recall  f1-score   support\n",
      "\n",
      "           0      1.000     1.000     1.000        19\n",
      "           1      1.000     0.882     0.938        17\n",
      "           2      0.875     1.000     0.933        14\n",
      "\n",
      "    accuracy                          0.960        50\n",
      "   macro avg      0.958     0.961     0.957        50\n",
      "weighted avg      0.965     0.960     0.960        50\n",
      "\n"
     ]
    }
   ],
   "execution_count": 120
  },
  {
   "metadata": {},
   "cell_type": "markdown",
   "source": [
    "Same for the naive e tied assumption\n",
    "...\n"
   ],
   "id": "257d1e91988e85a5"
  },
  {
   "metadata": {
    "ExecuteTime": {
     "end_time": "2025-09-03T11:02:36.649673Z",
     "start_time": "2025-09-03T11:02:36.646933Z"
    }
   },
   "cell_type": "code",
   "source": [
    "PVAL_MVG_NB, error_rate_NB = MVG.pipeline_Naive(DTR, LTR, DVAL, LVAL)\n",
    "PVAL_MVG_TiedCov, error_rate_TiedCov = MVG.pipeline_TiedCov(DTR, LTR, DVAL, LVAL)"
   ],
   "id": "5404d7dae4b56e8a",
   "outputs": [],
   "execution_count": 121
  },
  {
   "metadata": {
    "ExecuteTime": {
     "end_time": "2025-09-03T11:02:36.688412Z",
     "start_time": "2025-09-03T11:02:36.656446Z"
    }
   },
   "cell_type": "code",
   "source": [
    "error_rates = [\n",
    "    (\"MVG\", error_rate_MVG),\n",
    "    (\"Naive Bayes\", error_rate_NB),\n",
    "    (\"Tied Covariance MVG\", error_rate_TiedCov)\n",
    "]\n",
    "\n",
    "fig, ax = plt.subplots(figsize=(5, 2))\n",
    "ax.axis('tight')\n",
    "ax.axis('off')\n",
    "\n",
    "table_data = [[name, f\"{error:.2%}\"] for name, error in error_rates]\n",
    "table = ax.table(cellText=table_data, colLabels=[\"Classifier\", \"Error Rate\"], loc=\"center\")\n",
    "\n",
    "#center text in the cells\n",
    "for (i, j), cell in table.get_celld().items():\n",
    "    if i == 0:\n",
    "        cell.set_text_props(weight='bold')\n",
    "    else:\n",
    "        cell.set_text_props(ha='center', va='center')\n",
    "\n",
    "table.auto_set_font_size(False)\n",
    "table.set_fontsize(14)\n",
    "table.auto_set_column_width([0, 1])\n",
    "table.scale(1.5, 1.5)  # Adjust the scale for better visibility\n",
    "plt.title(\"Error Rates of Generative Gaussian Classifiers on Iris Dataset\")\n",
    "plt.show()\n"
   ],
   "id": "13fb88330d192148",
   "outputs": [
    {
     "data": {
      "text/plain": [
       "<Figure size 500x200 with 1 Axes>"
      ],
      "image/png": "[encoded data removed]"
     },
     "metadata": {},
     "output_type": "display_data",
     "jetTransient": {
      "display_id": null
     }
    }
   ],
   "execution_count": 122
  },
  {
   "metadata": {},
   "cell_type": "markdown",
   "source": [
    "## Transizione da Classificazione Multi-classe a Binaria con Controllo Esplicito\n",
    "\n",
    "### Dal Maximum A Posteriori alla Threshold Ottimale\n",
    "\n",
    "Nella sezione precedente abbiamo utilizzato l'approccio **Maximum A Posteriori (MAP)** con `np.argmax()` per la classificazione generale:\n",
    "\n",
    "```python\n",
    "# Approccio MAP - Multi-classe\n",
    "predicted_labels = np.argmax(SPost, axis=0)\n",
    "```\n",
    "\n",
    "Ora passiamo a un approccio più controllabile per problemi **binari**, utilizzando una **threshold esplicita** sul log-likelihood ratio.\n",
    "\n",
    "### Perché la Threshold Esplicita?\n",
    "\n",
    "L'approccio con threshold ci permette di:\n",
    "\n",
    "- **🎯 Controllo granulare**: Regolare precisamente il trade-off tra precision e recall\n",
    "- **⚖️ Gestione prior personalizzati**: Adattarsi a dataset sbilanciati o costi asimmetrici\n",
    "- **📊 Analisi di sensitività**: Testare facilmente diverse soglie decisionali\n",
    "- **🔍 Interpretabilità**: Capire esattamente come viene presa la decisione\n",
    "\n",
    "### Implementazione con Controllo Esplicito\n",
    "\n",
    "```python\n",
    "# Calcolo del log-likelihood ratio\n",
    "llr = log_densities[1] - log_densities[0]  # log p(x|C₁) - log p(x|C₀)\n",
    "\n",
    "# Threshold ottimale basata sui prior\n",
    "optimal_threshold = np.log(π_0 / π_1)\n",
    "\n",
    "# Classificazione con controllo esplicito\n",
    "PVAL_bin = np.where(llr >= optimal_threshold, 1, 0)\n",
    "```\n",
    "\n",
    "### Equivalenza Matematica\n",
    "\n",
    "Con **prior uniformi** (`π₀ = π₁ = 0.5`), i due approcci sono equivalenti:\n",
    "- `threshold = np.log(0.5/0.5) = 0`\n",
    "- `llr ≥ 0` equivale a `p(C₁|x) ≥ p(C₀|x)`\n",
    "\n",
    "### Vantaggi Pratici\n",
    "\n",
    "| Aspetto | argmax | Threshold |\n",
    "|---------|--------|-----------|\n",
    "| **Controllo prior** | Implicito | Esplicito |\n",
    "| **Multi-classe** | ✅ Nativo | ❌ Solo binario |\n",
    "| **Tuning** | Limitato | ✅ Flessibile |\n",
    "| **Interpretabilità** | Moderata | ✅ Alta |\n",
    "| **Ottimizzazione metriche** | Difficile | ✅ Semplice |\n",
    "\n",
    "---\n",
    "\n",
    "*Questa transizione ci permette di ottimizzare specificamente per il problema binario in questione, sfruttando la maggiore flessibilità e controllo offerta dalla threshold esplicita.*"
   ],
   "id": "35ae9e6d5102b51c"
  },
  {
   "metadata": {},
   "cell_type": "markdown",
   "source": [
    "## Binary tasks: log-likelihood ratios and MVG\n",
    "We now focus on the same binary task we employed for LDA (see Laboratory 3), which requries classifying only two kinds of flowers, iris versicolor and iris virginica.\n",
    "So, the first thing to to is to extract just the samples of classes iris-versicolor and iris-virginica from the Dataset."
   ],
   "id": "8b98d1744d5e365b"
  },
  {
   "metadata": {
    "ExecuteTime": {
     "end_time": "2025-09-03T11:02:36.697324Z",
     "start_time": "2025-09-03T11:02:36.693742Z"
    }
   },
   "cell_type": "code",
   "source": [
    "D, L = load_split.load_iris_binary()\n",
    "(DTR, LTR), (DVAL, LVAL) = load_split.split_db_2to1(D, L)\n",
    "\n",
    "print(\"Training data shape: \", DTR.shape)\n",
    "print(\"Training labels shape: \", LTR.shape)\n",
    "print(\"Evaluation data shape: \", DVAL.shape)\n",
    "print(\"Evaluation labels shape: \", LVAL.shape)"
   ],
   "id": "78658a0166a25d32",
   "outputs": [
    {
     "name": "stdout",
     "output_type": "stream",
     "text": [
      "Training data shape:  (4, 66)\n",
      "Training labels shape:  (66,)\n",
      "Evaluation data shape:  (4, 34)\n",
      "Evaluation labels shape:  (34,)\n"
     ]
    }
   ],
   "execution_count": 123
  },
  {
   "metadata": {
    "ExecuteTime": {
     "end_time": "2025-09-03T11:02:36.709290Z",
     "start_time": "2025-09-03T11:02:36.706467Z"
    }
   },
   "cell_type": "code",
   "source": [
    "#Compute the MLE estimators for class 1 and class 2\n",
    "mu_1, C_1, = mean_covariance.compute_mu_C(DTR[:, LTR == 0])\n",
    "mu_2, C_2, = mean_covariance.compute_mu_C(DTR[:, LTR == 1])\n",
    "print(f\"mu_1:\\n{mu_1}\\nShape: {mu_1.shape}\")\n",
    "print(f\"mu_2:\\n{mu_2}\\nShape: {mu_2.shape}\")\n",
    "print(f\"C_1:\\n{C_1}\\nShape: {C_1.shape}\")\n",
    "print(f\"C_2:\\n{C_2}\\nShape: {C_2.shape}\")"
   ],
   "id": "dcde256a818dfbc3",
   "outputs": [
    {
     "name": "stdout",
     "output_type": "stream",
     "text": [
      "mu_1:\n",
      "[[6.5875  ]\n",
      " [2.95625 ]\n",
      " [5.571875]\n",
      " [2.053125]]\n",
      "Shape: (4, 1)\n",
      "mu_2:\n",
      "[[5.95882353]\n",
      " [2.78529412]\n",
      " [4.32647059]\n",
      " [1.33823529]]\n",
      "Shape: (4, 1)\n",
      "C_1:\n",
      "[[0.41296875 0.06226562 0.29058594 0.04691406]\n",
      " [0.06226562 0.06308594 0.04564453 0.03201172]\n",
      " [0.29058594 0.04564453 0.28764648 0.04868164]\n",
      " [0.04691406 0.03201172 0.04868164 0.05874023]]\n",
      "Shape: (4, 4)\n",
      "C_2:\n",
      "[[0.30948097 0.10851211 0.21991349 0.07186851]\n",
      " [0.10851211 0.10831315 0.09627163 0.04173875]\n",
      " [0.21991349 0.09627163 0.25018166 0.0807526 ]\n",
      " [0.07186851 0.04173875 0.0807526  0.04000865]]\n",
      "Shape: (4, 4)\n"
     ]
    }
   ],
   "execution_count": 124
  },
  {
   "metadata": {
    "ExecuteTime": {
     "end_time": "2025-09-03T11:02:36.729074Z",
     "start_time": "2025-09-03T11:02:36.726814Z"
    }
   },
   "cell_type": "code",
   "source": [
    "#Then we can compute the log-likelihoods for class 1 and class 2 given the MLE parameters of the MVG distribution\n",
    "#Beware: we use the VALIDATION data to compute the log-likelihoods, not the training data!\n",
    "loglikelihood_1 = MVG.logpdf_GAU_ND(DVAL, mu_1, C_1)\n",
    "loglikelihood_2 = MVG.logpdf_GAU_ND(DVAL, mu_2, C_2)\n",
    "print(f\"loglikelihood_1 Shape: {loglikelihood_1.shape}\")\n",
    "print(f\"loglikelihood_2 Shape: {loglikelihood_2.shape}\")"
   ],
   "id": "4c142bff36261929",
   "outputs": [
    {
     "name": "stdout",
     "output_type": "stream",
     "text": [
      "loglikelihood_1 Shape: (34,)\n",
      "loglikelihood_2 Shape: (34,)\n"
     ]
    }
   ],
   "execution_count": 125
  },
  {
   "metadata": {
    "ExecuteTime": {
     "end_time": "2025-09-03T11:02:36.739688Z",
     "start_time": "2025-09-03T11:02:36.737894Z"
    }
   },
   "cell_type": "code",
   "source": [
    "#Then we compute the 1-D array of the log-likelihood ratios\n",
    "#In the log-domain, we just need to subtract the log-likelihoods of the two classes\n",
    "llr_MVG = loglikelihood_2 - loglikelihood_1\n",
    "print(f\"llr Shape: {llr_MVG.shape}\")"
   ],
   "id": "15d5ea084c806c71",
   "outputs": [
    {
     "name": "stdout",
     "output_type": "stream",
     "text": [
      "llr Shape: (34,)\n"
     ]
    }
   ],
   "execution_count": 126
  },
  {
   "metadata": {
    "ExecuteTime": {
     "end_time": "2025-09-03T11:02:36.750300Z",
     "start_time": "2025-09-03T11:02:36.748057Z"
    }
   },
   "cell_type": "code",
   "source": [
    "#Classification rule: assign samples whose llr_MVG >= 0 to class 1 and samples whose llr_MVG < 0 to class 0\n",
    "PVAL_bin_MVG = np.where(llr_MVG >= 0, 1, 0) #assign samples whose llr_MVG >= 0 to class 2 and samples whose llr_MVG < 0 to class 1\n",
    "print(f\"Predictions shape: {PVAL_bin_MVG.shape}\")\n",
    "print(f\"Predictions: {PVAL_bin_MVG}\")"
   ],
   "id": "e26ae7524cff1d05",
   "outputs": [
    {
     "name": "stdout",
     "output_type": "stream",
     "text": [
      "Predictions shape: (34,)\n",
      "Predictions: [1 0 1 0 1 1 1 0 0 0 0 0 0 0 1 1 1 1 1 0 0 1 0 0 0 1 1 1 1 0 0 0 1 1]\n"
     ]
    }
   ],
   "execution_count": 127
  },
  {
   "metadata": {
    "ExecuteTime": {
     "end_time": "2025-09-03T11:02:36.759621Z",
     "start_time": "2025-09-03T11:02:36.757474Z"
    }
   },
   "cell_type": "code",
   "source": [
    "# Error Rate for Binary MVG Classifier:\n",
    "error_count_bin_MVG = np.count_nonzero(PVAL_bin_MVG != LVAL)\n",
    "print(f\"Number of wrong predictions: {error_count_bin_MVG}\")\n",
    "error_rate_bin_MVG = np.mean(PVAL_bin_MVG != LVAL)\n",
    "print(f\"Error Rate: {error_rate_bin_MVG:.2%}\")"
   ],
   "id": "b1d15dd2ce888b6a",
   "outputs": [
    {
     "name": "stdout",
     "output_type": "stream",
     "text": [
      "Number of wrong predictions: 3\n",
      "Error Rate: 8.82%\n"
     ]
    }
   ],
   "execution_count": 128
  },
  {
   "metadata": {},
   "cell_type": "markdown",
   "source": "Tied",
   "id": "5b93acd016a26dd6"
  },
  {
   "metadata": {
    "ExecuteTime": {
     "end_time": "2025-09-03T11:02:36.768846Z",
     "start_time": "2025-09-03T11:02:36.766287Z"
    }
   },
   "cell_type": "code",
   "source": [
    "TiedCov_Params_bin = MVG.computeParams_ML_TiedCov(DTR, LTR) #compute the CTied and muVect for the training data usign MLE\n",
    "CTied_bin = TiedCov_Params_bin[0][1]\n",
    "print(f\"mu_1:\\n{TiedCov_Params_bin[0][0]}\\nShape: {TiedCov_Params_bin[0][0].shape}\")\n",
    "print(f\"mu_2:\\n{TiedCov_Params_bin[1][0]}\\nShape: {TiedCov_Params_bin[1][0].shape}\")\n",
    "print(f\"CTied:\\n{CTied_bin}\\nShape: {CTied_bin.shape}\")\n"
   ],
   "id": "74f54da635482214",
   "outputs": [
    {
     "name": "stdout",
     "output_type": "stream",
     "text": [
      "mu_1:\n",
      "[[6.5875  ]\n",
      " [2.95625 ]\n",
      " [5.571875]\n",
      " [2.053125]]\n",
      "Shape: (4, 1)\n",
      "mu_2:\n",
      "[[5.95882353]\n",
      " [2.78529412]\n",
      " [4.32647059]\n",
      " [1.33823529]]\n",
      "Shape: (4, 1)\n",
      "CTied:\n",
      "[[0.35965686 0.08608957 0.25417892 0.05976939]\n",
      " [0.08608957 0.0863848  0.07172516 0.03702262]\n",
      " [0.25417892 0.07172516 0.26834642 0.06520304]\n",
      " [0.05976939 0.03702262 0.06520304 0.04909063]]\n",
      "Shape: (4, 4)\n"
     ]
    }
   ],
   "execution_count": 129
  },
  {
   "metadata": {
    "ExecuteTime": {
     "end_time": "2025-09-03T11:02:36.777830Z",
     "start_time": "2025-09-03T11:02:36.775744Z"
    }
   },
   "cell_type": "code",
   "source": [
    "#Then we can compute the log-likelihoods for class 1 and class 2 given the MLE parameters of the MVG distribution\n",
    "#Beware: we use the VALIDATION data to compute the log-likelihoods, not the training data!\n",
    "loglikelihood_1_TiedCov = MVG.logpdf_GAU_ND(DVAL, TiedCov_Params_bin[0][0], CTied_bin)\n",
    "loglikelihood_2_TiedCov = MVG.logpdf_GAU_ND(DVAL, TiedCov_Params_bin[1][0], CTied_bin)\n",
    "print(f\"loglikelihood_1 Shape: {loglikelihood_1_TiedCov.shape}\")\n",
    "print(f\"loglikelihood_2 Shape: {loglikelihood_2_TiedCov.shape}\")"
   ],
   "id": "2621287d02096b57",
   "outputs": [
    {
     "name": "stdout",
     "output_type": "stream",
     "text": [
      "loglikelihood_1 Shape: (34,)\n",
      "loglikelihood_2 Shape: (34,)\n"
     ]
    }
   ],
   "execution_count": 130
  },
  {
   "metadata": {
    "ExecuteTime": {
     "end_time": "2025-09-03T11:02:36.787056Z",
     "start_time": "2025-09-03T11:02:36.785346Z"
    }
   },
   "cell_type": "code",
   "source": [
    "#Then we compute the 1-D array of the log-likelihood ratios\n",
    "#In the log-domain, we just need to subtract the log-likelihoods of the two classes\n",
    "llr_TiedCov = loglikelihood_2_TiedCov - loglikelihood_1_TiedCov\n",
    "print(f\"llr Shape: {llr_TiedCov.shape}\")"
   ],
   "id": "b1ea93343f979f88",
   "outputs": [
    {
     "name": "stdout",
     "output_type": "stream",
     "text": [
      "llr Shape: (34,)\n"
     ]
    }
   ],
   "execution_count": 131
  },
  {
   "metadata": {
    "ExecuteTime": {
     "end_time": "2025-09-03T11:02:36.797061Z",
     "start_time": "2025-09-03T11:02:36.795036Z"
    }
   },
   "cell_type": "code",
   "source": [
    "#Classification rule: assign samples whose llr_MVG >= 0 to class 1 and samples whose llr_MVG < 0 to class 0\n",
    "PVAL_bin_TiedCov = np.where(llr_TiedCov >= 0, 1, 0)\n",
    "print(f\"Predictions shape: {PVAL_bin_TiedCov.shape}\")\n",
    "print(f\"Predictions: {PVAL_bin_TiedCov}\")"
   ],
   "id": "5a084bca507e4836",
   "outputs": [
    {
     "name": "stdout",
     "output_type": "stream",
     "text": [
      "Predictions shape: (34,)\n",
      "Predictions: [1 0 1 0 1 1 1 0 0 0 0 0 0 0 1 1 0 1 1 0 0 1 0 0 0 1 1 1 1 0 0 0 1 1]\n"
     ]
    }
   ],
   "execution_count": 132
  },
  {
   "metadata": {
    "ExecuteTime": {
     "end_time": "2025-09-03T11:02:36.807226Z",
     "start_time": "2025-09-03T11:02:36.805267Z"
    }
   },
   "cell_type": "code",
   "source": [
    "error_count_bin_TiedCov = np.count_nonzero(PVAL_bin_TiedCov != LVAL)\n",
    "print(f\"Number of wrong predictions: {error_count_bin_TiedCov}\")\n",
    "error_rate_bin_TiedCov = np.mean(PVAL_bin_TiedCov != LVAL)\n",
    "print(f\"Error Rate: {error_rate_bin_TiedCov:.2%}\")"
   ],
   "id": "230f330b24a28a53",
   "outputs": [
    {
     "name": "stdout",
     "output_type": "stream",
     "text": [
      "Number of wrong predictions: 2\n",
      "Error Rate: 5.88%\n"
     ]
    }
   ],
   "execution_count": 133
  },
  {
   "metadata": {
    "ExecuteTime": {
     "end_time": "2025-09-03T11:02:36.843981Z",
     "start_time": "2025-09-03T11:02:36.813500Z"
    }
   },
   "cell_type": "code",
   "source": [
    "error_rates = [\n",
    "    (\"MVG\", error_rate_bin_MVG),\n",
    "    (\"Tied Covariance MVG\", error_rate_bin_TiedCov)\n",
    "]\n",
    "\n",
    "fig, ax = plt.subplots(figsize=(5, 2))\n",
    "ax.axis('tight')\n",
    "ax.axis('off')\n",
    "\n",
    "table_data = [[name, f\"{error:.2%}\"] for name, error in error_rates]\n",
    "table = ax.table(cellText=table_data, colLabels=[\"Classifier\", \"Error Rate\"], loc=\"center\")\n",
    "\n",
    "#center text in the cells\n",
    "for (i, j), cell in table.get_celld().items():\n",
    "    if i == 0:\n",
    "        cell.set_text_props(weight='bold')\n",
    "    else:\n",
    "        cell.set_text_props(ha='center', va='center')\n",
    "\n",
    "table.auto_set_font_size(False)\n",
    "table.set_fontsize(14)\n",
    "table.auto_set_column_width([0, 1])\n",
    "table.scale(1.5, 1.5)  # Adjust the scale for better visibility\n",
    "plt.title(\"Error Rates of Generative Gaussian Classifiers on Iris Dataset\")\n",
    "plt.show()\n"
   ],
   "id": "b0b49c826c97abed",
   "outputs": [
    {
     "data": {
      "text/plain": [
       "<Figure size 500x200 with 1 Axes>"
      ],
      "image/png": "[encoded data removed]"
     },
     "metadata": {},
     "output_type": "display_data",
     "jetTransient": {
      "display_id": null
     }
    }
   ],
   "execution_count": 134
  }
 ],
 "metadata": {
  "kernelspec": {
   "display_name": "Python 3",
   "language": "python",
   "name": "python3"
  },
  "language_info": {
   "codemirror_mode": {
    "name": "ipython",
    "version": 2
   },
   "file_extension": ".py",
   "mimetype": "text/x-python",
   "name": "python",
   "nbconvert_exporter": "python",
   "pygments_lexer": "ipython2",
   "version": "2.7.6"
  }
 },
 "nbformat": 4,
 "nbformat_minor": 5
}
