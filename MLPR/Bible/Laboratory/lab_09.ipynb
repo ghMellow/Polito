{
 "cells": [
  {
   "metadata": {},
   "cell_type": "markdown",
   "source": [
    "# Logistic Regression\n",
    "\n",
    "## Numerical Optimization\n",
    "The Logistic Regression model is obtained by **minimizing the average cross-entropy between the model predictions and the observed labels**. As we have seen, this corresponds also to a **Maximum Likelihood solution for the observed labels**, or to **minimizing the average Logistic Loss function.** See the next section for all the theory related to Logistic Regression, here we just report the final formulas for the three objective functions:\n",
    "- log-likelihood: $l(\\mathbf{w}, b) = \\sum_{i=1}^{n} \\left[c_i \\log y_i + (1 - c_i) \\log(1 - y_i)\\right] \\rightarrow$ GOAL: maximize $l(\\mathbf{w}, b)$ wrt $\\mathbf{w}, b$.\n",
    "\n",
    "- average cross-entroy: $\\mathcal{J}(\\mathbf{w}, b) = -l(\\mathbf{w}, b) = - \\sum_{i=1}^{n} \\left[c_i \\log y_i + (1 - c_i) \\log(1 - y_i)\\right] \\rightarrow$ GOAL: minimize $\\mathcal{J}(\\mathbf{w}, b)$ wrt $\\mathbf{w}, b$.\n",
    "\n",
    "- average Logistic Loss function: $\\mathcal{J}(\\mathbf{w}, b) = \\sum_{i=1}^{n} \\log(1 + e^{-z_i(\\mathbf{w}^T \\mathbf{x}_i + b)})  \\rightarrow$ GOAL: minimize $\\mathcal{J}(\\mathbf{w}, b)$ wrt $\\mathbf{w}, b$.\n",
    "\n",
    "While for Gaussian models closed form expressions are available for the\n",
    "ML solutions, this is not the case for Logistic Regression. This means, **we can't just solve system of equations to find the optimal parameters**. This is because the **sigmoid** function involved in binary Logistic regression (and the **softmax** function involved in multiclass Logistic regression) make the loss function nonlinear and non-convex in general<br>\n",
    "Therefore, we turn to numerical optimization\n",
    "to find the maximizer of the class likelihoods, or, equivalently, the minimizer of the average cross-entropy or average Logistic Loss function. <br>\n",
    "Numerical optimization algorithms look for the minimum of a function $f(x)$ with respect to the argument\n",
    "$x$. Here we briefly explain two methods, the second one will be the one adopted by us:\n",
    "### 1) Gradient Descent (GD)\n",
    "with this iterative method, at each iteration $t$ we compute $x_{t+1}$ from $x_{t}$:\n",
    "- we compute the gradient $\\nabla f(x_t)$ of the loss function with respect to the current parameters $x_t$.\n",
    "- we then update the parameters by moving in the **opposite direction of the gradient** (this is done by multiplying the gradient by $-1$), scaled by a learning rate (also called step) $\\alpha_t$:\n",
    "\n",
    "$$\n",
    "x_{t+1} = x_t - \\alpha_t \\nabla f(x_t)\n",
    "$$\n",
    "\n",
    "Under the assumptions that the step becomes lower when iterations pass $\\left( \\alpha_t \\rightarrow 0 \\right)$ and that the whole sum of all the steps at each iteration is unbounded $\\left( \\sum_{t=1}^{\\infty} \\alpha_t \\rightarrow \\infty \\right)$, we are certain that the algorithm converges to a **local minimum** of $f$.\n",
    "#### Pros of GD\n",
    "- Easy to implement\n",
    "- Low memory usage\n",
    "\n",
    "#### Cons of GD\n",
    "- Can be **very slow to converge**\n",
    "- Sensitive to choice of learning rate\n",
    "- Struggles with ill-conditioned loss surfaces\n",
    "\n",
    "### 2) L-BFGS (Limited-memory Broyden–Fletcher–Goldfarb–Shanno)\n",
    "L-BFGS is a more advanced optimization algorithm that uses an **approximate second-order method**. Instead of relying solely on the gradient, it also uses curvature information so second order information, such as the Hessian of the function, from previous iterations to guide the search more efficiently. <br>\n",
    "\n",
    "#### Pros of L-BFGS\n",
    "- Much **faster convergence** than gradient descent\n",
    "- No need to compute or store the full Hessian (which would be $\\mathcal{O}(d^2)$)\n",
    "\n",
    "#### Cons of L-BFGS\n",
    "- Slightly more complex and higher per-iteration cost ($\\mathcal{O}(md)$, whereas GD has just $\\mathcal{O}(d)$)\n",
    "\n",
    "\n",
    "This second algorithm is the one we''l use and is implemented in `scipy` (requires importing `scipy.optimize`). We will use the `scipy.optimize.fmin_l_bfgs_b` interface to the numerical solver.\n",
    "\n",
    "`scipy.optimize.fmin_l_bfgs_b` requires at least 2 arguments (check the documentation for more details):\n",
    "\n",
    "* `func`: the function we want to minimize.\n",
    "* `x0`: the starting value for the algorithm.\n",
    "\n",
    "The L-BFGS algorithm requires computing the objective function and its gradient. To pass the gradient we have different options:\n",
    "\n",
    "* Through `func`: `func` should return a tuple `(f(x), \\nabla_x f(x))`.\n",
    "* Through the optional parameter `fprime`: `fprime` is a function computing the gradient. In this case, `func` should only return the objective value $f(x)$.\n",
    "* Let the implementation compute an approximated gradient: pass `approx_grad = True`. In this case, `func` should only return the objective value $f(x)$.\n",
    "\n",
    "The last option does not require writing a function that computes the gradient, as an approximation of the gradient is automatically obtained through finite differences. While this has the advantage that we do not need to derive and implement the gradient, it has two drawbacks:\n",
    "\n",
    "* The gradient computed through finite differences may not be accurate enough.\n",
    "* The computations are much more expensive, since we need to evaluate the objective function a number of times at least $D$, where $D$ is the size of $x$, at each iteration, and if we want a more accurate approximation of the gradient we may need to evaluate $f$ many more times.\n",
    "\n"
   ],
   "id": "d934e4bf766535d1"
  },
  {
   "metadata": {},
   "cell_type": "markdown",
   "source": [
    "As an example, we now try to apply the L-BFGS to the function:\n",
    "$$\n",
    "f(y, z) = (y + 3)^2 + \\sin(y) + (z + 1)^2\n",
    "$$"
   ],
   "id": "30c7916cc07c9213"
  },
  {
   "metadata": {
    "ExecuteTime": {
     "end_time": "2025-08-25T11:25:11.726774Z",
     "start_time": "2025-08-25T11:25:11.331085Z"
    }
   },
   "cell_type": "code",
   "source": [
    "import numpy as np\n",
    "import scipy.optimize as opt\n",
    "\n",
    "import LogisticRegression.LR as LR"
   ],
   "id": "b5d5df6041e623a8",
   "outputs": [
    {
     "name": "stderr",
     "output_type": "stream",
     "text": [
      "/Users/nicolotermine/zMellow/GitHub-Poli/Polito/MLPR/Bible/LogisticRegression/LR.py:175: SyntaxWarning: invalid escape sequence '\\l'\n",
      "  colLabels=[\"$\\lambda$\", \"$\\mathcal{J}(\\mathbf{w}^*, b^*)$\", \"Error rate\", \"minDCF ($\\pi_T = 0.5$)\", f\"actDCF ($\\pi_T = 0.5$)\"],\n",
      "/Users/nicolotermine/zMellow/GitHub-Poli/Polito/MLPR/Bible/LogisticRegression/LR.py:175: SyntaxWarning: invalid escape sequence '\\m'\n",
      "  colLabels=[\"$\\lambda$\", \"$\\mathcal{J}(\\mathbf{w}^*, b^*)$\", \"Error rate\", \"minDCF ($\\pi_T = 0.5$)\", f\"actDCF ($\\pi_T = 0.5$)\"],\n",
      "/Users/nicolotermine/zMellow/GitHub-Poli/Polito/MLPR/Bible/LogisticRegression/LR.py:175: SyntaxWarning: invalid escape sequence '\\p'\n",
      "  colLabels=[\"$\\lambda$\", \"$\\mathcal{J}(\\mathbf{w}^*, b^*)$\", \"Error rate\", \"minDCF ($\\pi_T = 0.5$)\", f\"actDCF ($\\pi_T = 0.5$)\"],\n",
      "/Users/nicolotermine/zMellow/GitHub-Poli/Polito/MLPR/Bible/LogisticRegression/LR.py:175: SyntaxWarning: invalid escape sequence '\\p'\n",
      "  colLabels=[\"$\\lambda$\", \"$\\mathcal{J}(\\mathbf{w}^*, b^*)$\", \"Error rate\", \"minDCF ($\\pi_T = 0.5$)\", f\"actDCF ($\\pi_T = 0.5$)\"],\n"
     ]
    }
   ],
   "execution_count": 1
  },
  {
   "metadata": {
    "ExecuteTime": {
     "end_time": "2025-08-25T11:25:11.740177Z",
     "start_time": "2025-08-25T11:25:11.736771Z"
    }
   },
   "cell_type": "code",
   "source": [
    "#implementation of function f(y,z)\n",
    "def f(x):\n",
    "    #x is an numpy array of shape (2,)\n",
    "    #x[0] is y and x[1] is z\n",
    "    #te function returns the value of f(y,z) = (y+3)^2 + sin(y) + (z+1)^2\n",
    "    y = x[0]\n",
    "    z = x[1]\n",
    "\n",
    "    return (y+3)**2 + np.sin(y) + (z+1)**2\n",
    "\n",
    "\n",
    "#Now we call scipy.optimize.fmin_l_bfgs_b passing the function f and the initial x0 which is a numpy array of values [0,0] and approx_grad = True\n",
    "x_0 = np.array([0, 0])\n",
    "\n",
    "#x_min is the minimum point of the function f\n",
    "#f_min is the value of the function f at the minimum point x_min\n",
    "#d is a dictionary with information about the optimization process\n",
    "x_min, f_min, d = opt.fmin_l_bfgs_b(f, x_0, approx_grad=True)\n",
    "\n",
    "print(f\"Mimimum of f(y,z) is at x_min = {x_min}\")\n",
    "print(f\"f(y_min,z_min) = f(x_min) = {f_min}\")\n",
    "print(f\"Optimization info: {d}\")"
   ],
   "id": "72ac124d68c021b",
   "outputs": [
    {
     "name": "stdout",
     "output_type": "stream",
     "text": [
      "Mimimum of f(y,z) is at x_min = [-2.57747138 -0.99999927]\n",
      "f(y_min,z_min) = f(x_min) = -0.356143012364764\n",
      "Optimization info: {'grad': array([-1.49880109e-06,  1.46549439e-06]), 'task': 'CONVERGENCE: NORM OF PROJECTED GRADIENT <= PGTOL', 'funcalls': 21, 'nit': 6, 'warnflag': 0}\n"
     ]
    }
   ],
   "execution_count": 2
  },
  {
   "metadata": {},
   "cell_type": "markdown",
   "source": "We can check the number of times the function $f$ was called with this second approach:\n",
   "id": "fe801039f5382e98"
  },
  {
   "metadata": {
    "ExecuteTime": {
     "end_time": "2025-08-25T11:25:11.793020Z",
     "start_time": "2025-08-25T11:25:11.791662Z"
    }
   },
   "cell_type": "code",
   "source": "print(f\"function f called {d['funcalls']} times\")",
   "id": "30ea17dd7da92549",
   "outputs": [
    {
     "name": "stdout",
     "output_type": "stream",
     "text": [
      "function f called 21 times\n"
     ]
    }
   ],
   "execution_count": 3
  },
  {
   "metadata": {},
   "cell_type": "markdown",
   "source": "We can also provide an explicit gradient, in this case te function is very simple so rather than approximate it we can just compute the two partial derivatives explicitly:",
   "id": "c3036a5e0433fff4"
  },
  {
   "metadata": {
    "ExecuteTime": {
     "end_time": "2025-08-25T11:25:11.806714Z",
     "start_time": "2025-08-25T11:25:11.804244Z"
    }
   },
   "cell_type": "code",
   "source": [
    "def f1(x):\n",
    "    #x is an numpy array of shape (2,)\n",
    "    #x[0] is y and x[1] is z\n",
    "    #te function returns the value of f(y,z) = (y+3)^2 + sin(y) + (z+1)^2\n",
    "    y = x[0]\n",
    "    z = x[1]\n",
    "\n",
    "    #provide explicit gradient of f\n",
    "    y_derivative = 2*(y+3) + np.cos(y)\n",
    "    z_derivative = 2*(z+1)\n",
    "\n",
    "    #gradient has shape (2,)\n",
    "    return (y+3)**2 + np.sin(y) + (z+1)**2, np.array([y_derivative, z_derivative])\n",
    "\n",
    "#Now we call scipy.optimize.fmin_l_bfgs_b passing the function f and the initial x0 which is a numpy array of values [0,0] and pass the explicitly computed  gradient of f\n",
    "x_0 = np.array([0, 0])\n",
    "\n",
    "#x_min is the minimum point of the function f\n",
    "#f_min is the value of the function f at the minimum point x_min\n",
    "#d is a dictionary with information about the optimization process\n",
    "x_min, f_min, d = opt.fmin_l_bfgs_b(f1, x_0)\n",
    "\n",
    "print(f\"Mimimum of f(y,z) is at x_min = {x_min}\")\n",
    "print(f\"f(y_min,z_min) = f(x_min) = {f_min}\")\n",
    "print(f\"Optimization info: {d}\")"
   ],
   "id": "229bc0b195724c7d",
   "outputs": [
    {
     "name": "stdout",
     "output_type": "stream",
     "text": [
      "Mimimum of f(y,z) is at x_min = [-2.57747137 -0.99999927]\n",
      "f(y_min,z_min) = f(x_min) = -0.3561430123647611\n",
      "Optimization info: {'grad': array([-1.50318729e-06,  1.46120529e-06]), 'task': 'CONVERGENCE: NORM OF PROJECTED GRADIENT <= PGTOL', 'funcalls': 7, 'nit': 6, 'warnflag': 0}\n"
     ]
    }
   ],
   "execution_count": 4
  },
  {
   "metadata": {},
   "cell_type": "markdown",
   "source": "We can check the number of times the function $f$ was called with this second approach:",
   "id": "75528a0652934625"
  },
  {
   "metadata": {
    "ExecuteTime": {
     "end_time": "2025-08-25T11:25:11.820244Z",
     "start_time": "2025-08-25T11:25:11.818766Z"
    }
   },
   "cell_type": "code",
   "source": "print(f\"function f called {d['funcalls']} times\")",
   "id": "1b995644fe92e3b2",
   "outputs": [
    {
     "name": "stdout",
     "output_type": "stream",
     "text": [
      "function f called 7 times\n"
     ]
    }
   ],
   "execution_count": 5
  },
  {
   "metadata": {},
   "cell_type": "markdown",
   "source": [
    "Whereas with the first approach (i.e. let scipy automatically approximate the gradient) $f$ was called 21 times, in this second case it's called just 7 times, a third! <br>\n",
    "So, we can say that te automatic numerical approximation of the gradient is significantly more expensive, and the cost becomes\n",
    "relatively worse when the dimensionality of the domain of f increases."
   ],
   "id": "882940088fda9e9c"
  },
  {
   "metadata": {},
   "cell_type": "markdown",
   "source": [
    "## Binary logistic regression (theory recap)\n",
    "It's important to underline that, althougth it's in the name, this is a classification model (like the GGM), and not a regression model (such as linear regression). <br>\n",
    "We introduce this other model because in this case our goal becomes very different from when we studied the GGM. If, when we implemented and applied the GGM, our goal was to model the distribution of the observed samples $X \\mid C$, when using Logistic Regression we want to directly model the class posteriors distribution $C \\mid X$. <br>\n",
    "Using again a generative approach, the Posterior probability for class $h_1$ can be computed from the modeled priors and the modeled class conditional densities, using the Bayes' Theorem:\n",
    "$$\n",
    "P(C = h_1 \\mid \\mathbf{x}) = \\frac{f_{\\mathbf{X} \\mid C}(\\mathbf{x} \\mid C = h_1) P(C = h_1)}{\\sum_{i=0}^{K-1} f_{\\mathbf{X} \\mid C}(\\mathbf{x} | C = c_i) P(C = c_i)} = \\frac{f_{\\mathbf{X} \\mid C}(\\mathbf{x} \\mid C = h_1) P(C = h_1)}{ f_{\\mathbf{X} \\mid C}(\\mathbf{x} | C = h_0) P(C = h_0) + f_{\\mathbf{X} \\mid C}(\\mathbf{x} | C = h_1) P(C = h_1)}\n",
    "$$\n",
    "This can be rewritten as:\n",
    "$$\n",
    "P(C = h_1 \\mid \\mathbf{x}) = \\frac{1}{1+ e^{-s(\\mathbf{x})}} = \\sigma(s(\\mathbf{x}))\n",
    "$$\n",
    "Where:\n",
    "- $s(\\mathbf{x})$ is the score\n",
    "\n",
    "- $\\sigma (t) = \\frac{1}{1+ e^{-t}}$ is called **sigmoid**/logistic function. It has $\\lim_{t \\to - \\infty} \\sigma(t) = 0$ and $\\lim_{t \\to \\infty} \\sigma(t) = 1$. An important property of this function is that: $1 - \\sigma (t) = \\sigma (-t)$ <br>\n",
    "<img src=\"sigmoid.png\" alt=\"image.png\" style=\"background-color: #ADD8E6; width: 400px; height: 200px;\">\n",
    "\n",
    "For the score, we can use the **log-posterior ratio**, given in the log domain by the sum of the log-likelihood ratio and the prior log odds, as we already did with the GGM:\n",
    "$$\n",
    "s(\\mathbf{x}) = llr(\\mathbf{x}) + \\text{log}\\frac{\\pi}{1+\\pi} = \\text{log} \\frac{f_{\\mathbf{X} \\mid C}(\\mathbf{x} | C = h_1)}{f_{\\mathbf{X} \\mid C}(\\mathbf{x} | C = h_0)} + \\text{log}\\frac{\\pi}{1-\\pi}\n",
    "$$\n",
    "In this first phase, we can impose and use **linear classification rules**, so the score can be rewritten as:\n",
    "$$\n",
    "s(\\mathbf{x}) = \\mathbf{w}^T \\mathbf{x} + b\n",
    "$$\n",
    "This expression is linear wrt features $\\mathbf{x}$. $\\mathbf{w}$ is the weigth vector and is **orthogonal** to the linear decision surface, $b$ is a scalar bias, which also absorbes information from the Priors. $s(\\mathbf{x})$ is positive for samples of class $h_1$ and negative for samples of class $h_0$. The equation:\n",
    "$$\n",
    "s(\\mathbf{x}) = \\mathbf{w}^T \\mathbf{x} + b = 0\n",
    "$$\n",
    "defines the linear decision surface, so the linear hyperplane, which separates our classes. <br>\n",
    "So, to sum up all of this, we can write:\n",
    "$$\n",
    "P(C = h_1 \\mid \\mathbf{x}, \\mathbf{w}, b) = \\sigma(\\mathbf{w}^T \\mathbf{x} + b)\n",
    "$$\n",
    "Since we're speaking about probabilities and we just have two classes, we can also write the posterior for the other class, $h_0$, as:\n",
    "$$\n",
    "P(C = h_0 \\mid \\mathbf{x}, \\mathbf{w}, b) = 1 - P(C = h_1 \\mid \\mathbf{x}, \\mathbf{w}, b) = 1 - \\sigma(\\mathbf{w}^T \\mathbf{x} + b) = \\sigma(- \\mathbf{w}^T \\mathbf{x} + b)\n",
    "$$\n",
    "So, it's clear that we cannot compute these posteriors without knowing the model parameters, $(\\mathbf{w}, b)$. <br>\n",
    "Now, assuming we have a labeled training dataset $\\mathcal{D} = [(\\mathbf{x}_1, c_1), \\ldots, (\\mathbf{x}_n, c_n)]$ where classes are independently distributed, we can express the likelihood for the observed labels as\n",
    "$$\n",
    "\\mathcal{L}(\\mathbf{w}, b) = P(C_1 = c_1, \\ldots, C_n = c_n | \\mathbf{x}_1, \\ldots, \\mathbf{x}_n, \\mathbf{w}, b) = \\prod_{i=1}^{n} P(C_i = c_i | \\mathbf{x}_i, \\mathbf{w}, b)\n",
    "$$\n",
    "\n",
    "We can thus apply a **ML approach** to estimate the model parameters that best describe the observed labels $(c_1, \\ldots, c_n)$. So we want to find the value of $\\mathbf{w}$ and b that maximize the likelihood of our training labels. <br>\n",
    "We assume that the classes $h_1, h_0$ have labels 1 and 0 respectively. Also, let $y_i = P(C_i = 1 | \\mathbf{x}_i, \\mathbf{w}, b) = \\sigma(\\mathbf{w}^T \\mathbf{x}_i + b)$. It follows that $P(C_i = 0 | \\mathbf{x}_i, \\mathbf{w}, b) = 1 - y_i$. <br>\n",
    "So, the distribution for $C_i | \\mathbf{x}_i, \\mathbf{w}, b$ is a Bernoulli distribution:\n",
    "\n",
    "$$\n",
    "C_i | \\mathbf{x}_i, \\mathbf{w}, b \\sim \\text{Ber}(\\sigma(\\mathbf{w}^T \\mathbf{x}_i + b)) = \\text{Ber}(y_i)\n",
    "$$\n",
    "\n",
    "We can thus rewrite the likelihood using the Bernoulli formula for the density:\n",
    "\n",
    "$$\n",
    "\\mathcal{L}(\\mathbf{w}, b) = \\prod_{i=1}^{n} y_i^{c_i} (1 - y_i)^{(1 - c_i)}\n",
    "$$\n",
    "\n",
    "\n",
    "As always working with the log-likelihood is more practical, so we have\n",
    "\n",
    "$$\n",
    "l(\\mathbf{w}, b) = \\sum_{i=1}^{n} [c_i \\log y_i + (1 - c_i) \\log(1 - y_i)] = \\sum_{i=1}^{n} [c_i \\log \\sigma(\\mathbf{w}^T \\mathbf{x}_i + b) \\ + (1 - c_i) \\log \\left(1 - \\sigma(\\mathbf{w}^T \\mathbf{x}_i + b) \\right)] \\tag{1 way}\n",
    "$$\n",
    "This is the first way to write the L.R. Objective function. There are other three ways. All of this formulas have a tag on the right which tells you they are all the ways to write the objective function. <br>\n",
    "Our goal is the maximization of $l$ with respect to $\\mathbf{w}$ and $b$.\n",
    "As briefly said before, we can do this but also follow other two approaches involving the minimization of the average cross-entropy or the minimization of the average Logistic Loss function. <br>\n",
    "The Average cross-entropy measures how good are the predictions made by te Recognizer, versus the actual labels present in the training data and it's just the negative of the likelihood:\n",
    "$$\n",
    "\\mathcal{J}(\\mathbf{w}, b) = - \\sum_{i=1}^{n} [c_i \\log y_i + (1 - c_i) \\log(1 - y_i)] = \\sum_{i=1}^{n} - [c_i \\log \\sigma(\\mathbf{w}^T \\mathbf{x}_i + b) \\ + (1 - c_i) \\log \\left(1 - \\sigma(\\mathbf{w}^T \\mathbf{x}_i + b) \\right)] \\tag{2 way}\n",
    "$$\n",
    "Some numerical issues that may arise when explicitly computing sigmoids followed by natural logarithm, so we can rewrite the formula for the average cross entropy by excplicitly plugging in the sigmoid formula and observing that:\n",
    "$$\n",
    "\\log \\sigma(\\mathbf{w}^T \\mathbf{x}_i + b) = -\\log (1 + e^{-\\mathbf{w}^T \\mathbf{x}_i - b}) \\\\ \\\\\n",
    "\\log (1 - \\sigma(\\mathbf{w}^T \\mathbf{x}_i + b)) = -\\log \\sigma(-\\mathbf{w}^T \\mathbf{x}_i - b) = -\\log (1 + e^{\\mathbf{w}^T \\mathbf{x}_i + b})\n",
    "$$\n",
    "Thus we can also write the average cross-entropy this way:\n",
    "$$\n",
    "\\mathcal{J}(\\mathbf{w}, b) = \\frac{1}{n} \\sum_{i=1}^{n} \\left[c_i \\log (1 + e^{-\\mathbf{w}^T \\mathbf{x}_i - b}) + (1 - c_i) \\log (1 + e^{\\mathbf{w}^T \\mathbf{x}_i + b})\\right] \\tag{3 way}\n",
    "$$\n",
    "\n",
    "The Logistic Loss function is just another way to see all of this, although from an algebric standpoint it's just equivalent to the average cross-entropy after some semplifications and a substitution. As a matter of facts, let:\n",
    "$$\n",
    "z_i = 2c_i - 1 \\implies\n",
    "\\begin{cases}\n",
    "    z_i = 2* 0 - 1 = -1 & \\text{if } c_i = 0 \\\\\n",
    "    z_i = 2 * 1 - 1 = 1  & \\text{if } c_i = 1\n",
    "\\end{cases}\n",
    "$$\n",
    "So, considering just a single sample $\\mathbf{x}_i$, we can see that the binary cross entropy for predicted label $y_i$ and an actual label $c_i$ is:\n",
    "$$\n",
    "\\mathcal{H}(c_i, y_i) = - [c_i \\log \\sigma(\\mathbf{w}^T \\mathbf{x}_i + b) \\ + (1 - c_i) \\log \\left(1 - \\sigma(\\mathbf{w}^T \\mathbf{x}_i + b) \\right)] =\n",
    "\\begin{cases}\n",
    "    - \\log \\sigma (\\mathbf{w}^T \\mathbf{x}_i + b) & \\text{if } c_i = 1 \\iff z_i = 1 \\\\\n",
    "    - \\log \\sigma (- \\mathbf{w}^T \\mathbf{x}_i + b) & \\text{if } c_i = 0 \\iff z_i = -1\n",
    "\\end{cases} =\n",
    "- \\log \\sigma (z_i \\cdot (\\mathbf{w}^T \\mathbf{x}_i + b))\n",
    "$$\n",
    "Thus we can rewrite the average cross entropy across all samples as:\n",
    "$$\n",
    "\\mathcal{J}(\\mathbf{w}, b) = \\frac{1}{n} \\sum_{i}^{n} \\mathcal{H}(c_i, y_i) = \\frac{1}{n} \\sum_{i}^{n} \\left[ - \\log \\sigma (z_i \\cdot (\\mathbf{w}^T \\mathbf{x}_i + b)) \\right]\n",
    "$$\n",
    "If we explicitly write the sigmoid formula and make some semplifications we get:\n",
    "\n",
    "$$\n",
    "\\mathcal{J}(\\mathbf{w}, b) = \\frac{1}{n} \\sum_{i}^{n} \\log \\left(  1 + e^{-z_i \\cdot (\\mathbf{w}^T \\mathbf{x}_i + b)} \\right) \\tag{4 way}\n",
    "$$\n",
    "This is called **average Logistic Loss function**. It measures the empirical risk which is defined by the cost to pay due to missclassification of samples, or even due uncertainty despite the classification is correct.<br>\n",
    "\n",
    "The last thing to talk about is **regularization**. In fact, if the classes are completely **separable** (i.e. we don't have samples from one class mixed with other from other classes), the L.R. solution is **undefined**, because we can aribtrarily decrease the Logistic Loss by arbitrarily increasing either $\\|\\mathbf{w}\\|$ or b, so the score $\\mathbf{w}^T \\mathbf{x}_i + b$ can get extremely high. In fact, remember that the score $\\mathbf{w}^T \\mathbf{x} + b$ is the classification rule if put $= 0$, but can also represent how far a sample is from the classification rule itself, if $\\mathbf{w}^T \\mathbf{x} + b \\gtrless 0$. This means the optimal solution is obtained where $\\|\\mathbf{w}\\| \\to \\infty$. In this case, to avoid having an undefined solution (and a potential freeze and/or crash of our program), we can manually impose a **norm penalty** to the objective function, so, when looking for the optimal solution, we'll have to respect this contraint as well and won't be able to increase the norm of $\\mathbf{w}$ more and more towards $\\infty$.\n",
    "The regularization term (norm penalty term) is composed like this:\n",
    "$$\n",
    "\\frac{\\lambda}{2} \\|\\mathbf{w}\\|^2\n",
    "$$\n",
    "It's important to note that $\\lambda$ is a **hyperparameter** of the model and its optimal value\n",
    "may be found with **cross-validation**. In fact, $\\lambda$ can’t be obtained by trying to\n",
    "minimize the objective function with respect to $\\lambda$ , as we would obtain $\\lambda = 0$ which would remove\n",
    "the regularization term from the equation. <br>\n",
    "It's important to note that this regularization term lowers $\\|\\mathbf{w}\\|^2$, thus generally favors **simpler solutions**: if the norm of vector $\\mathbf{w}$ decreases, the model will output not so certain predictions, event for samples that are relatively far from the decision surface. Beware that:\n",
    "- if $\\lambda$ becomes **too large**, $\\|\\mathbf{w}\\|^2$ will become too small, leading to a bad separation between the two classes.\n",
    "- if $\\lambda$ becomes **too small**, $\\|\\mathbf{w}\\|^2$ will become very large, so, although we would have good separation on the training set, the model will likely become too overconfident and we would risk overfitting, so poor generalization and bad sepration on the validation set.\n",
    "\n",
    "So, we can apply regularization and rewrite the three objective functions (for now we don't rewrite the log likelihood anymore because it's the only one which needs to be maximized, and in this case $\\lambda$ would have to have the opposite sign wrt all the other cases..so we just write the two ways of expressing the average cross entropy, and the Logistic Loss function):\n",
    "$$\n",
    "\\mathcal{J}(\\mathbf{w}, b) = \\frac{\\lambda}{2} \\|\\mathbf{w}\\|^2 - \\frac{1}{n} \\sum_{i=1}^{n} [c_i \\log \\sigma(\\mathbf{w}^T \\mathbf{x}_i + b) + (1 - c_i) \\log(1 - \\sigma(\\mathbf{w}^T \\mathbf{x}_i + b))] \\quad (1)\n",
    "$$\n",
    "\n",
    "$$\n",
    "\\mathcal{J}(\\mathbf{w}, b) = \\frac{\\lambda}{2} \\|\\mathbf{w}\\|^2 + \\frac{1}{n} \\sum_{i=1}^{n} \\log (1 + e^{-z_i(\\mathbf{w}^T \\mathbf{x}_i + b)}), \\quad z_i = \\begin{cases} 1 & \\text{if } c_i = 1 \\\\ -1 & \\text{if } c_i = 0 \\end{cases} \\quad (i.e. \\ z_i = 2c_i - 1) \\quad (2)\n",
    "$$\n",
    "\n",
    "$$\n",
    "\\mathcal{J}(\\mathbf{w}, b) = \\frac{\\lambda}{2} \\|\\mathbf{w}\\|^2 + \\frac{1}{n} \\sum_{i=1}^{n} [c_i \\log (1 + e^{-\\mathbf{w}^T \\mathbf{x}_i - b}) + (1 - c_i) \\log (1 + e^{\\mathbf{w}^T \\mathbf{x}_i + b})] \\quad (3)\n",
    "$$\n",
    "\n",
    "So, to summarize, the model will minimize the objective function and provide the best paramaters $(\\mathbf{w}, b)$ that lead to this minimization. After this, we have a score, which in this case is linear with respect to the features: $s(\\mathbf{x}) = \\mathbf{w}^T \\mathbf{x} + b$. The decision rule will be thus given by the hyperplane: $s(\\mathbf{x}) = \\mathbf{w}^T \\mathbf{x} + b = 0$, and so we can predict labels $1$ for scores $s(\\mathbf{x}_i)> 0$, and labels $0$ otherwise.\n"
   ],
   "id": "7eaa45e090d8e818"
  },
  {
   "metadata": {},
   "cell_type": "markdown",
   "source": [
    "## Binary logistic regression (implementation)\n",
    "We can now turn our attention to Logistic Regression. In this section we will implement the binary\n",
    "version of the logistic regression to discriminate between iris virginica and iris versicolor. We will ignore\n",
    "iris setosa. We will represent labels with 1 (iris versicolor) and 0 (iris virginica)."
   ],
   "id": "93cfaf1170161d09"
  },
  {
   "metadata": {
    "ExecuteTime": {
     "end_time": "2025-08-25T11:25:12.343001Z",
     "start_time": "2025-08-25T11:25:11.828799Z"
    }
   },
   "cell_type": "code",
   "source": [
    "from load_split import load_iris_binary, split_db_2to1\n",
    "from mean_covariance import vcol, vrow\n",
    "\n",
    "D, L = load_iris_binary()\n",
    "(DTR, LTR), (DVAL, LVAL) = split_db_2to1(D, L)\n",
    "print(f\"Training set shape: {DTR.shape}\")\n",
    "print(f\"Validation set shape: {DVAL.shape}\")\n",
    "print(f\"Training set labels: {LTR}\")\n",
    "print(f\"Validation set labels: {LVAL}\")\n"
   ],
   "id": "199124e79a259da0",
   "outputs": [
    {
     "name": "stdout",
     "output_type": "stream",
     "text": [
      "Training set shape: (4, 66)\n",
      "Validation set shape: (4, 34)\n",
      "Training set labels: [1 0 1 0 0 0 1 0 0 0 0 0 0 1 1 1 1 1 1 1 1 0 1 0 1 1 1 0 0 0 0 0 0 0 0 1 1\n",
      " 0 0 0 1 0 1 1 1 1 1 1 1 1 0 0 1 1 1 0 1 1 1 0 1 1 0 0 0 0]\n",
      "Validation set labels: [1 0 1 0 1 1 1 0 0 0 1 0 0 0 1 1 0 1 1 0 0 1 0 0 0 1 1 0 1 0 0 0 1 1]\n"
     ]
    }
   ],
   "execution_count": 6
  },
  {
   "metadata": {},
   "cell_type": "markdown",
   "source": [
    "The regularized Logistic Regression objective can be written in different ways\n",
    "(we adopt the average-risk expression which divides the loss by the number of samples):\n",
    "\n",
    "$$[\n",
    "J(\\mathbf{w}, b) = \\frac{\\lambda}{2} \\|\\mathbf{w}\\|^2 +\n",
    "\\frac{1}{n} \\sum_{i=1}^{n}\n",
    "\\Big[\n",
    "c_i \\log \\sigma(\\mathbf{w}^T \\mathbf{x}_i + b)\n",
    "+ (1 - c_i)\\log \\big(1 - \\sigma(\\mathbf{w}^T \\mathbf{x}_i + b)\\big)\n",
    "\\Big] \\tag{1}\n",
    "]$$\n",
    "\n",
    "$$[\n",
    "J(\\mathbf{w}, b) = \\frac{\\lambda}{2} \\|\\mathbf{w}\\|^2 +\n",
    "\\frac{1}{n} \\sum_{i=1}^{n}\n",
    "\\log \\Big(1 + e^{-z_i(\\mathbf{w}^T \\mathbf{x}_i + b)}\\Big),\n",
    "\\quad\n",
    "z_i =\n",
    "\\begin{cases}\n",
    "1 & \\text{if } c_i = 1 \\\\\n",
    "-1 & \\text{if } c_i = 0\n",
    "\\end{cases}\n",
    "\\quad (\\text{i.e. } z_i = 2c_i - 1) \\tag{2}\n",
    "]$$\n",
    "\n",
    "$$[\n",
    "J(\\mathbf{w}, b) = \\frac{\\lambda}{2} \\|\\mathbf{w}\\|^2 +\n",
    "\\frac{1}{n} \\sum_{i=1}^{n}\n",
    "\\Big[\n",
    "c_i \\log \\big(1 + e^{-\\mathbf{w}^T \\mathbf{x}_i - b}\\big)\n",
    "+ (1 - c_i)\\log \\big(1 + e^{\\mathbf{w}^T \\mathbf{x}_i + b}\\big)\n",
    "\\Big] \\tag{3}\n",
    "]$$\n",
    "\n",
    "\n",
    "\n",
    "Note that **(3)** follows either from **(2)**, observing that $(c_i = 1) for (z_i = 1) and (c_i = 0) for (z_i = -1)$,\n",
    "or from **(1)**, observing that:\n",
    "\n",
    "$$[\n",
    "\\log \\sigma(\\mathbf{w}^T \\mathbf{x}_i + b) = -\\log \\Big(1 + e^{-\\mathbf{w}^T \\mathbf{x}_i - b}\\Big)\n",
    "]$$\n",
    "and\n",
    "$$[\n",
    "\\log \\big(1 - \\sigma(\\mathbf{w}^T \\mathbf{x}_i + b)\\big)\n",
    "= -\\log \\sigma(-(\\mathbf{w}^T \\mathbf{x}_i + b))\n",
    "= -\\log \\Big(1 + e^{\\mathbf{w}^T \\mathbf{x}_i + b}\\Big)\n",
    "]$$\n",
    "\n",
    "\n",
    "\n",
    "The reason for preferring **(2)** or **(3)** to **(1)** is due to **numerical issues**\n",
    "that may arise when explicitly computing sigmoids followed by natural logarithms.\n",
    "\n",
    "\n",
    "\n",
    "\n"
   ],
   "id": "59117305446536c6"
  },
  {
   "metadata": {},
   "cell_type": "markdown",
   "source": [
    "### Implementation Task\n",
    "\n",
    "Implement Logistic Regression using expression **(2)**.\n",
    "This requires minimizing expression **(2)**.\n",
    "\n",
    "For this, you need to write a function `logreg_obj` that, given $(mathbf{w})$ and $(b)$,\n",
    "computes $(J(mathbf{w}, b))$.\n",
    "\n",
    "You can then provide this function to a numerical solver to obtain the minimizer of $(J)$.\n",
    "\n",
    "**NOTE:**\n",
    "- Function logreg_obj should receive a single numpy array v with shape (D+1,), where D is the\n",
    "dimensionality of the feature space (e.g. D = 4 for IRIS). v should pack all model parameters, i.e.\n",
    "v = [w, b]. Inside the function you can then unpack the array e.g. w, b = v[0:-1], v[-1].\n",
    "- The function logreg_obj needs to access also DTR, LTR and $\\lambda$, which are required to compute\n",
    "the objective function. So, we embed the objective function and its optimization inside a function trainLogReg that receives both DTR, LTR and a value for l. The objective function is defined inside trainLogReg,\n",
    "thus it can access the variables DTR and LTR in the outer function scope (i.e., those passed to\n",
    "trainLogReg)\n",
    "- The computation of $\\log(1 + e^{-z_i(\\mathbf{w}^T \\mathbf{x}_i + b)})$ can lead to numerical issues when $z_i(\\mathbf{w}^T \\mathbf{x}_i + b)$ is large, since the sum will make the contribution of the exponential term disappear. We can avoid the issue by using the `numpy.logaddexp` function, which computes:\n",
    "    $$\n",
    "    \\text{numpy.logaddexp}(a, b) = \\log(e^a + e^b)\n",
    "    $$\n",
    "    In our example, we need to compute `numpy.logaddexp(0, -z_i(\\mathbf{w}^T \\mathbf{x}_i + b))`.\n",
    "- Broadcasting can significantly speed-up the computations. You can compute a vector of “scores” $\\mathbf{S}$\n",
    "\n",
    "    $$\n",
    "    \\mathbf{S} = [(\\mathbf{w}^T \\mathbf{x}_1 + b) \\ldots (\\mathbf{w}^T \\mathbf{x}_n + b)]\n",
    "    $$\n",
    "\n",
    "    using simple matrix-vector multiplication: `S = (vcol(w).T @ DTR + b).ravel()`. Remember to reshape the result to a 1-D array (`.ravel()`). You can then multiply each element of the result-vector by the corresponding label: `-ZTR * S`, where `ZTR = 2 * LTR - 1`. `numpy.logaddexp` supports broadcasting so you can compute in a single shot all terms\n",
    "\n",
    "    $$\n",
    "    \\log \\left(1 + e^{-z_i(\\mathbf{w}^T \\mathbf{x}_i + b)}\\right)\n",
    "    $$\n",
    "\n",
    "    with `numpy.logaddexp(0, -ZTR * S)`.\n",
    "\n",
    "- To speed-up computations, it's useful to provide also the gradient of the function. We can express in vector form the derivatives with respect to the components of $\\mathbf{w}$ and $b$ as (notice that there is no minus in the exponential term $z_i(\\mathbf{w}^T \\mathbf{x}_i + b)$):\n",
    "\n",
    "    $$\n",
    "    \\nabla_{\\mathbf{w}} J = \\left[\\frac{\\partial J}{\\partial w_j}\\right] = \\lambda \\mathbf{w} + \\frac{1}{n} \\sum_{i=1}^{n} \\frac{-z_i}{1 + e^{z_i(\\mathbf{w}^T \\mathbf{x}_i + b)}} \\mathbf{x}_i\n",
    "    $$\n",
    "\n",
    "    $$\n",
    "    \\frac{\\partial J}{\\partial b} = \\frac{1}{n} \\sum_{i=1}^{n} \\frac{-z_i}{1 + e^{z_i(\\mathbf{w}^T \\mathbf{x}_i + b)}}\n",
    "    $$\n",
    "\n",
    "    where $d$ is the dimensionality of the feature vectors (`DTR.shape[0]`). These terms can be efficiently computed by computing the vector $\\mathbf{G}$:\n",
    "\n",
    "    $$\n",
    "    \\mathbf{G} = \\left[\\frac{-z_1}{1 + e^{z_1(\\mathbf{w}^T \\mathbf{x}_1 + b)}} \\ldots \\frac{-z_n}{1 + e^{z_n(\\mathbf{w}^T \\mathbf{x}_n + b)}}\\right]\n",
    "    $$\n",
    "\n",
    "    so that\n",
    "\n",
    "    $$\n",
    "    \\nabla_{\\mathbf{w}} J = \\lambda \\mathbf{w} + \\frac{1}{n} \\sum_{i=1}^{n} G_i \\mathbf{x}_i\n",
    "    $$\n",
    "\n",
    "    $$\n",
    "    \\frac{\\partial J}{\\partial b} = \\frac{1}{n} \\sum_{i=1}^{n} G_i\n",
    "    $$\n",
    "\n",
    "    which can be computed, using broadcasting, from the vector of scores $\\mathbf{S}$ as `G = -ZTR / (1.0 + numpy.exp(ZTR * S))` (note: you may obtain overflow from the exponentiation due to well-classified samples, however you can safely ignore the issue since it will simply cause the corresponding $G_i$ becoming exactly 0 rather than almost 0, and this will not cause numerical issues). You can then compute all terms $\\mathbf{G} \\mathbf{x}_i$ with broadcasting: `(vrow(G) * DTR)`.\n",
    "\n",
    "    Remember that `scipy.optimize.fmin_l_bfgs_b` requires that you pack $\\nabla_{\\mathbf{w}} J$ and $\\frac{\\partial J}{\\partial b}$ in a single vector `vgrad = [$\\nabla_{\\mathbf{w}} J$, $\\frac{\\partial J}{\\partial b}$]`. You have to modify the function `logreg_obj` so that it returns both the objective and the gradient `vgrad` (and set `approx_grad = False` when calling the optimizer function).\n",
    "\n",
    "- $\\lambda$ is a hyper-parameter. As usual, we should employ a validation set to estimate good values of $\\lambda$. For this laboratory, we can simply try different values and see how this affects the performance.\n",
    "\n",
    "- The starting point does not significantly influence the result, since the objective function is convex (there may be slight differences, but should be very small). You can use as initial value an array of all zeros `x0 = numpy.zeros(DTR.shape[0] + 1)`."
   ],
   "id": "18cd954c3eddd2a7"
  },
  {
   "metadata": {
    "ExecuteTime": {
     "end_time": "2025-08-25T11:25:12.350501Z",
     "start_time": "2025-08-25T11:25:12.348028Z"
    }
   },
   "cell_type": "code",
   "source": [
    "def trainLogReg(DTR, LTR, l):\n",
    "    \"\"\"\n",
    "    Train a logistic regression classifier using LTR as labels and DTR as data.\n",
    "    l is the regularization parameter (lambda).\n",
    "    \"\"\"\n",
    "\n",
    "    #LTR: ACTUAL labels -> they the c_i\n",
    "    #compute z_i = 2 * c_i - 1 -> ZTR = 2 * LTR - 1\n",
    "    #z_i is used in the Logistic Loss, not c_i\n",
    "    ZTR = 2 * LTR - 1\n",
    "\n",
    "\n",
    "    def logreg_obj(v):\n",
    "        \"\"\"\n",
    "        Compute the Objective function for logistic regression.\n",
    "        v is the vector of parameters in the form g. w, b = v[0:-1], v[-1]\n",
    "        Parameter:\n",
    "        - v: numpy array of shape (n_features + 1,)\n",
    "        Returns:\n",
    "        - f: float, the value of the objective function\n",
    "        \"\"\"\n",
    "        #extract w and b from v\n",
    "        w = v[:-1]  #weights\n",
    "        b = v[-1]   #bias\n",
    "\n",
    "        #Now, the objective function is the Logistic Loss which is:\n",
    "        #f(w, b) = 0.5 * l * ||w||^2 + 1/n * sum_i=1^n log(1 + exp(-z_i * (w^T x_i + b)))\n",
    "        #so it's the sum of two terms:\n",
    "        #1. the regularization term: 0.5 * l * ||w||^2\n",
    "        #2. the average logistic loss term: 1/n * sum_i=1^n log(1 + exp(-z_i * (w^T x_i + b)))\n",
    "\n",
    "\n",
    "        #compute regularization term (= norm penality)\n",
    "        normPenalty = 0.5 * l * np.linalg.norm(w)**2\n",
    "\n",
    "        #to compute the term: log (1 + exp(-z_i * (w^T x_i + b)))\n",
    "        #we can exploit numpy broadcasting + logaddexp\n",
    "        #so first we build a vector of scores S = [(w^T x1 + b). . .(w^T xn + b)]\n",
    "        #then we reshape S to a 1-D array of shape (n_samples, 1)\n",
    "        S = (vcol(w).T @ DTR).ravel() + b\n",
    "\n",
    "        #then we exploit broadcasting to compute -z_i * (w^T x_i + b) -> in code it's -ZTR * S -> this term is te full exponent\n",
    "        exponent = -ZTR * S\n",
    "\n",
    "        #then we exploit logaddexp: since the log (1 + exp(-z_i * (w^T x_i + b))) can lead to numerical issues, use logaddexp\n",
    "        #logaddexp(a, b) = log(exp(a) + exp(b))\n",
    "        #logaddexp(0, exponent) = log(1 + exp(exponent)) -> this is all the second term of the objective function, we just need to compute the mean of it\n",
    "        logTerm = np.logaddexp(0, exponent)\n",
    "        avgLogTerms = logTerm.mean()\n",
    "\n",
    "        return normPenalty + avgLogTerms\n",
    "\n",
    "    #so, the outer function has to invoke the scipy optimizer (fmin_l_bfgs_b) passing the function logreg_obj and the initial x0 which is a numpy array of all zeros and approx_grad = True\n",
    "    #in this version, we will not manually compute the gradient of the function, but we will use the approx_grad = True option of fmin_l_bfgs_b\n",
    "    #this will be slower, but we will not have to compute the gradient manually\n",
    "    xf = opt.fmin_l_bfgs_b(func = logreg_obj, x0 = np.zeros(DTR.shape[0]+1), approx_grad=True)\n",
    "\n",
    "    #xf is a tuple with the first element being the minimum point of the function f, the second element being the value of the function f at the minimum point xf[0], and the third element being a dictionary with information about the optimization process\n",
    "\n",
    "    #extract w_min, b_min\n",
    "    w_min = xf[0][:-1] #weights which minimize the objective function\n",
    "    b_min = xf[0][-1]  #bias which minimizes the objective function\n",
    "\n",
    "    #extract value of objective function in (w_min, b_min)\n",
    "    objMin = xf[1]\n",
    "\n",
    "    return w_min, b_min, objMin\n"
   ],
   "id": "2b7713f9c663ef26",
   "outputs": [],
   "execution_count": 7
  },
  {
   "metadata": {},
   "cell_type": "markdown",
   "source": "Let's retieve the params with this new method which supplies also the manually compute gradient:",
   "id": "f541b66d7380df3"
  },
  {
   "metadata": {
    "ExecuteTime": {
     "end_time": "2025-08-25T11:25:12.374542Z",
     "start_time": "2025-08-25T11:25:12.359491Z"
    }
   },
   "cell_type": "code",
   "source": [
    "#retrieve the parameters which minimize the objective function\n",
    "#change lambda from 10^(-3) to 1.0, by incrementing it by a decimal order every time\n",
    "parameters_l = {} #key: lambda, value: (w_min, b_min)\n",
    "lambdas = [10**(-3), 10**(-2), 10**(-1), 1.0]\n",
    "for l in lambdas:\n",
    "    w_min, b_min, objMin = trainLogReg(DTR, LTR, l)\n",
    "    parameters_l[l] = (w_min, b_min)\n",
    "    print(f\"lambda: {l}, w_min: {w_min}, b_min: {b_min}\")\n",
    "    print(f\"Value of the objective function at the minimum point: {objMin}\")"
   ],
   "id": "eaaafabf2bf42c06",
   "outputs": [
    {
     "name": "stdout",
     "output_type": "stream",
     "text": [
      "lambda: 0.001, w_min: [ 1.72973494  0.98290779 -4.5496021  -7.12478566], b_min: 20.952606014512465\n",
      "Value of the objective function at the minimum point: 0.11000090355234442\n",
      "lambda: 0.01, w_min: [ 0.55673139  0.35523329 -2.78054117 -2.76755674], b_min: 13.96310951411665\n",
      "Value of the objective function at the minimum point: 0.2429622728809411\n",
      "lambda: 0.1, w_min: [-0.19685808 -0.02124457 -1.10336582 -0.80719174], b_min: 8.175516705382357\n",
      "Value of the objective function at the minimum point: 0.4539406895959175\n",
      "lambda: 1.0, w_min: [-0.11040201 -0.02898685 -0.24787104 -0.14950471], b_min: 2.3109440668475854\n",
      "Value of the objective function at the minimum point: 0.6316436205353895\n"
     ]
    }
   ],
   "execution_count": 8
  },
  {
   "metadata": {},
   "cell_type": "markdown",
   "source": [
    "Now, we've compute the model parameters $(\\mathbf{w}, b)$. <br>\n",
    "So, we just jave to compute the posterior log-probability, by computing for each **validation** (**not training!**) sample $\\mathbf{x}_t$:\n",
    "$$\n",
    "s(\\mathbf{x}_t) = \\mathbf{w}^T \\mathbf{x}_t + b\n",
    "$$\n",
    "using $(\\mathbf{w}, b)$ found before."
   ],
   "id": "fe20d7eb246d810a"
  },
  {
   "metadata": {
    "ExecuteTime": {
     "end_time": "2025-08-25T11:25:12.383135Z",
     "start_time": "2025-08-25T11:25:12.381151Z"
    }
   },
   "cell_type": "code",
   "source": [
    "#compute log posteriors ratios using DVAL samples\n",
    "scores_l = {} #key: lambda, value: (log posterior ratio for each sample in DVAL)\n",
    "\n",
    "for l in lambdas:\n",
    "    p = parameters_l[l]\n",
    "    w, b = p[0], p[1]\n",
    "    S = (vcol(w).T @ DVAL).ravel() + b\n",
    "    scores_l[l] = S\n",
    "    print(f\"lambda: {l}, log posterior ratio: {S}\")\n"
   ],
   "id": "d6b7f3ba2c823c87",
   "outputs": [
    {
     "name": "stdout",
     "output_type": "stream",
     "text": [
      "lambda: 0.001, log posterior ratio: [ 7.34572871 -1.39292228  7.84876535 -3.59510998  7.51567873 10.31926241\n",
      "  5.64864701 -2.76289575 -5.93600923  0.0582238  -0.35935718 -7.9592703\n",
      " -7.70819853 -0.66495196  5.32463082  4.83015345 -5.01446312  5.29197758\n",
      "  5.4627879  -5.33168359 -4.21320678  8.17021873 -0.38296524 -6.28665696\n",
      " -2.77750196  3.5185359   6.7955012   0.71192875  4.88293062 -1.97789764\n",
      " -8.15024787 -6.56524581  5.70188484  4.92242253]\n",
      "lambda: 0.01, log posterior ratio: [ 3.98610285 -1.16283239  4.50320991 -1.92101211  4.08046559  5.5606342\n",
      "  3.13308914 -1.34636409 -2.75766545  0.03097018  0.05637155 -3.90249678\n",
      " -4.92014483 -0.18138295  2.59427603  2.45534898 -3.61940291  2.89055835\n",
      "  3.19322699 -2.43931171 -2.52744781  4.19528972  0.04099803 -3.27316248\n",
      " -1.6471649   1.57455447  3.63383581  0.13307546  3.09855267 -0.80246311\n",
      " -5.11842288 -2.6360913   2.89086993  2.76383855]\n",
      "lambda: 0.1, log posterior ratio: [ 1.70462272 -0.38947049  1.99003599 -0.90194029  1.82896242  2.32921766\n",
      "  1.42079173 -0.51968027 -0.93195136  0.22001347  0.19697034 -1.52070404\n",
      " -2.40670977  0.05151106  0.82764162  0.98228943 -2.13631622  1.30833069\n",
      "  1.5768733  -0.85673748 -1.04901074  1.72697516  0.18153345 -1.39651285\n",
      " -0.67169031  0.39410244  1.45238508  0.03787272  1.66129922 -0.16829403\n",
      " -2.5893927  -0.59017081  1.09956507  1.33226541]\n",
      "lambda: 1.0, log posterior ratio: [ 0.44624516 -0.03525847  0.52193904 -0.1931526   0.48907341  0.58923341\n",
      "  0.389862   -0.08156843 -0.15446819  0.12114862  0.10792477 -0.31103276\n",
      " -0.58006004  0.06685463  0.19539103  0.2637529  -0.55676598  0.36217621\n",
      "  0.44542556 -0.14596412 -0.20797709  0.44377202  0.10268194 -0.30031354\n",
      " -0.11788728  0.09214036  0.3704883   0.0458488   0.48258543  0.01953008\n",
      " -0.63894783 -0.03350443  0.2821881   0.37901378]\n"
     ]
    }
   ],
   "execution_count": 9
  },
  {
   "metadata": {},
   "cell_type": "markdown",
   "source": "Then, we know that $s(\\mathbf{x}_t) = \\mathbf{w}^T \\mathbf{x}_t + b = 0$ is the **decision surface** which separates the two classes. So, we can perform nclass assignments by thresholding the scores with 0 (i.e. $S[i] > 0 \\implies LP[i] = 1$, where $LP$ is the array of predicted)",
   "id": "6ea2b45a27b1c64d"
  },
  {
   "metadata": {
    "ExecuteTime": {
     "end_time": "2025-08-25T11:25:12.388044Z",
     "start_time": "2025-08-25T11:25:12.385995Z"
    }
   },
   "cell_type": "code",
   "source": [
    "#Perform class assignments\n",
    "LP_l = {} #key: lambda, value: (log posterior ratio for each sample in DVAL)\n",
    "for l in lambdas:\n",
    "    score = scores_l[l]\n",
    "    LP = np.zeros(score.shape) #predicted labels array\n",
    "    LP[score > 0] = 1 #assign label 1 to samples with score > 0\n",
    "    LP[score < 0] = 0 #assign label 0 to samples with score < 0\n",
    "    LP_l[l] = LP #store the predicted labels for each lambda\n",
    "\n",
    "#compute error rates\n",
    "err_l = {} #key: lambda, value: error rate\n",
    "for l in lambdas:\n",
    "    LP = LP_l[l]\n",
    "    err = (LP != LVAL).sum() / float(LVAL.size) * 100\n",
    "    err_l[l] = err #store the error rate for each lambda\n",
    "    print(f\"Error rate for lambda {l}: {err}\")"
   ],
   "id": "eca0ae9da168f69f",
   "outputs": [
    {
     "name": "stdout",
     "output_type": "stream",
     "text": [
      "Error rate for lambda 0.001: 8.823529411764707\n",
      "Error rate for lambda 0.01: 8.823529411764707\n",
      "Error rate for lambda 0.1: 11.76470588235294\n",
      "Error rate for lambda 1.0: 14.705882352941178\n"
     ]
    }
   ],
   "execution_count": 10
  },
  {
   "metadata": {},
   "cell_type": "markdown",
   "source": [
    "Now, let's make another step. As said before, at the beginning, the score provided by L.R. can be interpreted ad the log ratio between class Posteriors:\n",
    "$$\n",
    "s(\\mathbf{x}) = \\log \\frac{P(C = h1 \\mid \\mathbf{x}, \\mathbf{w}, b)}{P(C = h0 \\mid \\mathbf{x}, \\mathbf{w}, b)}\n",
    "$$\n",
    "Because of the fact that model parameters $(\\mathbf{w}, b)$ have been estimated by either minimizing the average cross entropy or Logistic Loss function, either maximizing the log-likelihood, the model will implicitly reflect the **empirical class priors** of the training set of the actual labels ($LTR$):\n",
    "$$\n",
    "P_{emp}(C = h_1) = \\frac{\\sum_{c_i=1}c_i}{K} = \\frac{\\sum_{i=0}^{K-1}c_i}{K} = \\frac{n_{h_1}}{K} \\\\\\\\\n",
    "P_{emp}(C = h_0) = 1 - P_{emp}(C = h_1) = \\frac{\\sum_{c_i=0}c_i}{K} = 1 - \\frac{n_{h_1}}{K} = \\frac{n_{h_0}}{K}\n",
    "$$\n",
    "The empirical prior log-odds from the training set is:\n",
    "$$\n",
    "\\log \\frac{P_{emp}(C = h_1)}{P_{emp}(C = h_0)} = \\log \\frac{n_{h_1} / K}{n_{h_0} / K} = \\frac{n_{h_1}}{n_{h_0}}\n",
    "$$\n",
    "So, the model learns to make predictions that align well with the distribution of classes observed in the training set. In the limit of a large training set, the model's learned bias term $b$ will be influenced by the log-odds of the empirical class priors. <br>\n",
    "So, it's evident that the model posterior probabilities are thus suited for applications\n",
    "whose effective prior is close to the empirical training set prior,\n",
    "but may provide **poor performance for different applications** when this is not the case. <br>\n",
    "The bias term, $b$, in the score will absorbe information about priors, so to solve this issue we can subtract the empirical prior log odds from the training set to recover a score which behaves like a log-likelihood ratio:\n",
    "$$\n",
    "s_{llr}(\\mathbf{x}) = s(\\mathbf{x}) - \\log \\frac{n_{h_1}}{n_{h_0}}\n",
    "$$\n",
    "This can be written also like this, expliciting the decision rule (which in this case is linear) and the training prior log odds:\n",
    "$$\n",
    "s_{llr}(\\mathbf{x}) = \\mathbf{w}^T \\mathbf{x} + b - \\log \\frac{\\pi_{emp}^{LTR}}{1- \\pi_{emp}^{LTR}}\n",
    "$$\n",
    "Now  basically we can use $s_{llr}(\\mathbf{x})$ as a normal log-likelihood ratio and, to make a decision or obtain posterior probabilities for a specific application with a potentially different prior, we can combine this estimated LLR with the prior log-odds of that application. For example, if we have an application $(\\pi_T, 1, 1)$ with an effective prior $\\pi_T$, we can compute the log posterior ratio for the specific application:\n",
    "$$\n",
    "\\log \\frac{P_{app}(C = h1 \\mid \\mathbf{x}, \\mathbf{w}, b)}{P_{app}(C = h0 \\mid \\mathbf{x}, \\mathbf{w}, b)} = s_{llr}(\\mathbf{x}) + \\log \\frac{\\pi_T}{1 - \\pi_T} = \\mathbf{w}^T \\mathbf{x} + b - \\log \\frac{\\pi_{emp}^{LTR}}{1- \\pi_{emp}^{LTR}} + \\log \\frac{\\pi_T}{1 - \\pi_T}\n",
    "$$\n",
    "Not that if we have $\\pi_T = \\pi_{emp}^{LTR}$ (i.e. our application prior reflects the empirical prior of the training set), these two constant terms erase each other and we go back to the standard formula. <br>\n",
    "We can then compute decisions by comparing $s_{llr}(\\mathbf{x})$ with the thredhold given by the application prior log odds:\n",
    "$$\n",
    "s_{llr}(\\mathbf{x}) \\gtrless \\log \\frac{\\pi_T}{1 - \\pi_T}\n",
    "$$\n",
    "This provides a decision rule that is adapted to the specific prior of the target application. The threshold $\\log \\frac{\\pi_T}{1 - \\pi_T}$\n",
    "represents the point where the posterior probability for class $h_1$ is equal to the application prior $\\pi_T$."
   ],
   "id": "71c1f0d4a15165fc"
  },
  {
   "metadata": {},
   "cell_type": "markdown",
   "source": [
    "So, we compute empirical priors from the training set:\n",
    "$$\n",
    "P_{emp}(C = h_1) = \\frac{\\sum_{c_i=1}c_i}{K} = \\frac{\\sum_{i=0}^{K-1}c_i}{K} = \\frac{n_{h_1}}{K} \\\\\\\\\n",
    "P_{emp}(C = h_0) = 1 - P_{emp}(C = h_1) = \\frac{\\sum_{c_i=0}c_i}{K} = 1 - \\frac{n_{h_1}}{K} = \\frac{n_{h_0}}{K}\n",
    "$$"
   ],
   "id": "818c4a100fef7735"
  },
  {
   "metadata": {
    "ExecuteTime": {
     "end_time": "2025-08-25T11:25:12.400312Z",
     "start_time": "2025-08-25T11:25:12.398557Z"
    }
   },
   "cell_type": "code",
   "source": [
    "#Empirical priors computation from DTR\n",
    "pi_emp_h1 = np.sum(LTR == 1) / LTR.size\n",
    "pi_emp_h0 = np.sum(LTR == 0) / LTR.size\n",
    "\n",
    "print(f\"Empirical prior for class 1: {round(pi_emp_h1 * 100, 2)}%\")\n",
    "print(f\"Empirical prior for class 0: {round(pi_emp_h0 * 100, 2)}%\")\n",
    "print(f\"Empirical prior log odds: {np.log(pi_emp_h1 / pi_emp_h0)}\")"
   ],
   "id": "15c2e7eca436fe0b",
   "outputs": [
    {
     "name": "stdout",
     "output_type": "stream",
     "text": [
      "Empirical prior for class 1: 51.52%\n",
      "Empirical prior for class 0: 48.48%\n",
      "Empirical prior log odds: 0.06062462181643484\n"
     ]
    }
   ],
   "execution_count": 11
  },
  {
   "metadata": {},
   "cell_type": "markdown",
   "source": "We now can compute *llr-like* scores, $s_{llr}(\\mathbf{x})$, Beware, now we use the original scores, $s(\\mathbf{x})$, computed using the **validation** set.",
   "id": "ecef6158c7622f1f"
  },
  {
   "metadata": {
    "ExecuteTime": {
     "end_time": "2025-08-25T11:25:12.411652Z",
     "start_time": "2025-08-25T11:25:12.409812Z"
    }
   },
   "cell_type": "code",
   "source": [
    "llr_like_scores_l = {} #key: lambda, value: (s_llr)\n",
    "for l in lambdas:\n",
    "    score = scores_l[l]\n",
    "    #subtract empirical prior log odds\n",
    "    s_llr = score - np.log(pi_emp_h1 / pi_emp_h0) #the same as s_llr = score - np.log(pi_emp_h1 / (1- pi_emp_h1))\n",
    "    llr_like_scores_l[l] = s_llr #store the log likelihood ratio scores for each lambda\n",
    "    print(f\"lambda: {l}, log likelihood ratio scores: {s_llr}\")"
   ],
   "id": "fbfae7e76b66eda2",
   "outputs": [
    {
     "name": "stdout",
     "output_type": "stream",
     "text": [
      "lambda: 0.001, log likelihood ratio scores: [ 7.28510409e+00 -1.45354690e+00  7.78814073e+00 -3.65573460e+00\n",
      "  7.45505411e+00  1.02586378e+01  5.58802239e+00 -2.82352037e+00\n",
      " -5.99663385e+00 -2.40081972e-03 -4.19981802e-01 -8.01989492e+00\n",
      " -7.76882315e+00 -7.25576582e-01  5.26400620e+00  4.76952883e+00\n",
      " -5.07508774e+00  5.23135296e+00  5.40216328e+00 -5.39230821e+00\n",
      " -4.27383140e+00  8.10959411e+00 -4.43589866e-01 -6.34728158e+00\n",
      " -2.83812658e+00  3.45791128e+00  6.73487658e+00  6.51304125e-01\n",
      "  4.82230600e+00 -2.03852226e+00 -8.21087249e+00 -6.62587044e+00\n",
      "  5.64126022e+00  4.86179791e+00]\n",
      "lambda: 0.01, log likelihood ratio scores: [ 3.92547823e+00 -1.22345701e+00  4.44258529e+00 -1.98163673e+00\n",
      "  4.01984097e+00  5.50000958e+00  3.07246451e+00 -1.40698871e+00\n",
      " -2.81829007e+00 -2.96544427e-02 -4.25307560e-03 -3.96312140e+00\n",
      " -4.98076945e+00 -2.42007572e-01  2.53365140e+00  2.39472435e+00\n",
      " -3.68002753e+00  2.82993373e+00  3.13260236e+00 -2.49993633e+00\n",
      " -2.58807243e+00  4.13466509e+00 -1.96265948e-02 -3.33378710e+00\n",
      " -1.70778953e+00  1.51392985e+00  3.57321119e+00  7.24508350e-02\n",
      "  3.03792805e+00 -8.63087731e-01 -5.17904750e+00 -2.69671593e+00\n",
      "  2.83024531e+00  2.70321393e+00]\n",
      "lambda: 0.1, log likelihood ratio scores: [ 1.6439981  -0.45009511  1.92941137 -0.96256492  1.7683378   2.26859304\n",
      "  1.36016711 -0.58030489 -0.99257598  0.15938885  0.13634572 -1.58132866\n",
      " -2.46733439 -0.00911356  0.767017    0.9216648  -2.19694084  1.24770607\n",
      "  1.51624868 -0.9173621  -1.10963536  1.66635053  0.12090883 -1.45713747\n",
      " -0.73231494  0.33347782  1.39176046 -0.0227519   1.60067459 -0.22891865\n",
      " -2.65001732 -0.65079543  1.03894045  1.27164079]\n",
      "lambda: 1.0, log likelihood ratio scores: [ 0.38562054 -0.09588309  0.46131442 -0.25377722  0.42844879  0.52860879\n",
      "  0.32923738 -0.14219305 -0.21509281  0.060524    0.04730015 -0.37165739\n",
      " -0.64068466  0.00623001  0.13476641  0.20312828 -0.6173906   0.30155159\n",
      "  0.38480094 -0.20658874 -0.26860171  0.3831474   0.04205732 -0.36093816\n",
      " -0.1785119   0.03151574  0.30986368 -0.01477582  0.42196081 -0.04109454\n",
      " -0.69957246 -0.09412905  0.22156348  0.31838916]\n"
     ]
    }
   ],
   "execution_count": 12
  },
  {
   "metadata": {},
   "cell_type": "markdown",
   "source": [
    "Now we can compute the $\\text{DCF}$ and $\\text{min DCF}$ (i.e. the **normalized** Bayes Risk and normalized min Bayes Risk) by comparing the $s_{llr}(\\mathbf{x})$ to the application dependent threshold. <br>\n",
    "In this case, we abitrarily set $\\pi_T = 0.5$ for application prior (meaning in our application the two classes are perfectly balanced). <br>\n",
    "Based on what we obtain, we can actually say if our system is *good / useful* or *harmful /useless*:\n",
    "- if $DCF(\\pi_T, 1, 1) > 1 \\Rightarrow$ our system is **harmful**\n",
    "- if $DCF(\\pi_T, 1, 1) \\lt 1 \\Rightarrow$ our system is **good**"
   ],
   "id": "dda3be1b3df3c598"
  },
  {
   "metadata": {
    "ExecuteTime": {
     "end_time": "2025-08-25T11:25:12.428802Z",
     "start_time": "2025-08-25T11:25:12.427409Z"
    }
   },
   "cell_type": "code",
   "source": [
    "#import function to compute DDCF, minDCF\n",
    "from Bayes_decisions_Model_evaluation import computeEmpiricalBayesRisk_Normalized, computeMinEmpiricalBayesRisk_Normalized\n",
    "\n",
    "#computeEmpiricalBayesRisk_Normalized(llrs, LVAL, PriorTrue, Cfn, Cfp)\n",
    "#computeMinEmpiricalBayesRisk_Normalized(scores, LVAL, PriorTrue, Cfn, Cfp)"
   ],
   "id": "51a8455ea210e31e",
   "outputs": [],
   "execution_count": 13
  },
  {
   "metadata": {
    "ExecuteTime": {
     "end_time": "2025-08-25T11:25:12.445659Z",
     "start_time": "2025-08-25T11:25:12.440017Z"
    }
   },
   "cell_type": "code",
   "source": [
    "#Compute dcf, min_dcf\n",
    "dcf_l = {} #key: lambda, value: (dcf)\n",
    "min_dcf_l = {} #key: lambda, value: (min_dcf)\n",
    "\n",
    "for l in lambdas:\n",
    "\n",
    "    dcf = computeEmpiricalBayesRisk_Normalized(llr_like_scores_l[l], LVAL, 0.5, 1.0, 1.0)\n",
    "    min_dcf = computeMinEmpiricalBayesRisk_Normalized(llr_like_scores_l[l], LVAL, 0.5, 1.0, 1.0)\n",
    "    dcf_l[l] = dcf #store the dcf for each lambda\n",
    "    min_dcf_l[l] = min_dcf #store the min_dcf for each lambda\n",
    "\n",
    "    print(f\"dcf for lambda {l}: {dcf:.4f}\")\n",
    "    print(f\"min_dcf for lambda {l}: {min_dcf:.4f}\")"
   ],
   "id": "7af08b20266f8125",
   "outputs": [
    {
     "name": "stdout",
     "output_type": "stream",
     "text": [
      "dcf for lambda 0.001: 0.1181\n",
      "min_dcf for lambda 0.001: 0.0625\n",
      "dcf for lambda 0.01: 0.1181\n",
      "min_dcf for lambda 0.01: 0.0556\n",
      "dcf for lambda 0.1: 0.1111\n",
      "min_dcf for lambda 0.1: 0.0556\n",
      "dcf for lambda 1.0: 0.1667\n",
      "min_dcf for lambda 1.0: 0.1111\n"
     ]
    }
   ],
   "execution_count": 14
  },
  {
   "metadata": {},
   "cell_type": "markdown",
   "source": [
    "---\n",
    "\n",
    "We can redo all the steps in one unique function:\n"
   ],
   "id": "9ca871502c1c1f31"
  },
  {
   "metadata": {
    "ExecuteTime": {
     "end_time": "2025-08-25T11:25:12.455309Z",
     "start_time": "2025-08-25T11:25:12.453969Z"
    }
   },
   "cell_type": "code",
   "source": "import LogisticRegression.LR as LR",
   "id": "4d6db334b045e9bc",
   "outputs": [],
   "execution_count": 15
  },
  {
   "metadata": {
    "ExecuteTime": {
     "end_time": "2025-08-25T11:25:30.231693Z",
     "start_time": "2025-08-25T11:25:30.051867Z"
    }
   },
   "cell_type": "code",
   "source": [
    "#TRY THE FINAL FUNCTION\n",
    "lambdas_param = [10**(-5), 10**(-4), 10**(-3), 2* 10**(-3), 7* 10**(-3), 10**(-2), 10**(-1), 1.0]\n",
    "LR.fitLogReg(DTR, LTR, DVAL, LVAL, lambdas_param)\n"
   ],
   "id": "5035082474ff9c21",
   "outputs": [
    {
     "data": {
      "text/plain": [
       "<Figure size 800x400 with 1 Axes>"
      ],
      "image/png": "[encoded data removed]"
     },
     "metadata": {},
     "output_type": "display_data"
    }
   ],
   "execution_count": 17
  }
 ],
 "metadata": {
  "kernelspec": {
   "display_name": "Python 3",
   "language": "python",
   "name": "python3"
  },
  "language_info": {
   "codemirror_mode": {
    "name": "ipython",
    "version": 2
   },
   "file_extension": ".py",
   "mimetype": "text/x-python",
   "name": "python",
   "nbconvert_exporter": "python",
   "pygments_lexer": "ipython2",
   "version": "2.7.6"
  }
 },
 "nbformat": 4,
 "nbformat_minor": 5
}
